{
 "cells": [
  {
   "cell_type": "markdown",
   "id": "d8deea88-290b-4ac4-8455-28f39251b6e4",
   "metadata": {},
   "source": [
    "## Datasets"
   ]
  },
  {
   "cell_type": "markdown",
   "id": "21b48764-2dd1-4c37-bf55-46fe8c391beb",
   "metadata": {},
   "source": [
    "### Children's Book Test(CBT)\n",
    "https://research.facebook.com/downloads/babi/ <br>\n",
    "download link (134MB): <br>\n",
    "http://www.thespermwhale.com/jaseweston/babi/CBTest.tgz <br>"
   ]
  },
  {
   "cell_type": "markdown",
   "id": "bdc470f5-cf25-41f4-9590-cb8b78ce4a69",
   "metadata": {},
   "source": [
    "### Intermediate Dataset\n",
    "Science Fiction dataset (1.21GB): <br>\n",
    "https://github.com/nschaetti/SFGram-dataset <br>\n",
    "Fanfiction (largely written by adolescents) (725GB) (selected): <br> \n",
    "https://www.kaggle.com/metrovirus/fanfictionnet "
   ]
  },
  {
   "cell_type": "markdown",
   "id": "2260f9a7-835a-473f-b016-019f44d8c8fe",
   "metadata": {},
   "source": [
    "### Adult Reading\n",
    "BBC News: <br>\n",
    "https://www.kaggle.com/c/learn-ai-bbc (can not use) <br>\n",
    "All the news (669.64MB) (selected): <br>\n",
    "https://www.kaggle.com/datasets/snapcrack/all-the-news"
   ]
  },
  {
   "cell_type": "markdown",
   "id": "aa765dcf-48d2-473e-8f0f-2ffc1a63bac0",
   "metadata": {},
   "source": [
    "## How to download data to your Github"
   ]
  },
  {
   "cell_type": "code",
   "execution_count": 8,
   "id": "49fb0f83-c81f-49c8-b1b5-9d1aed84a890",
   "metadata": {},
   "outputs": [
    {
     "name": "stdout",
     "output_type": "stream",
     "text": [
      "mkdir: raw_data: File exists\n"
     ]
    }
   ],
   "source": [
    "# create a data folder\n",
    "!mkdir raw_data"
   ]
  },
  {
   "cell_type": "code",
   "execution_count": 9,
   "id": "6f639926-ae21-4bc5-8b53-05b4772df319",
   "metadata": {},
   "outputs": [],
   "source": [
    "# Download data from OneDrive and move the data to raw_data folder\n",
    "# https://entuedu-my.sharepoint.com/:f:/g/personal/yang047_e_ntu_edu_sg/EtJcTA5lzDRNkwtHE0W8FAwBcDjnCHghMYNq6UCd2t82lA?e=2BoJ3w"
   ]
  },
  {
   "cell_type": "code",
   "execution_count": 10,
   "id": "9d4da65a-2f7d-4eb0-aa20-a74604df2c2d",
   "metadata": {},
   "outputs": [],
   "source": [
    "# Please add to your github's .gitigonore file\n",
    "# raw_data/\n",
    "# So your github will not trying to upload these large data files to web"
   ]
  },
  {
   "cell_type": "markdown",
   "id": "5a0acbef-3ec6-4075-b300-157590e09e34",
   "metadata": {},
   "source": [
    "## Data Checking and Preprocessing"
   ]
  },
  {
   "cell_type": "code",
   "execution_count": 41,
   "id": "d62285ce-62b0-4d8d-a188-9e62836be590",
   "metadata": {},
   "outputs": [
    {
     "data": {
      "text/plain": [
       "131072"
      ]
     },
     "execution_count": 41,
     "metadata": {},
     "output_type": "execute_result"
    }
   ],
   "source": [
    "# working with CSV formated dataset\n",
    "# for Allthenew, we only need the title and the content\n",
    "import pandas as pd\n",
    "import csv\n",
    "import sys\n",
    "csv.field_size_limit(sys.maxsize)"
   ]
  },
  {
   "cell_type": "markdown",
   "id": "6952640f-6097-48c9-95c7-f5d95e5bd68a",
   "metadata": {},
   "source": [
    "### Adult set - Allthenews"
   ]
  },
  {
   "cell_type": "code",
   "execution_count": 19,
   "id": "51dfd55a-5e84-4f24-8016-d2e21b6a83b9",
   "metadata": {},
   "outputs": [],
   "source": [
    "data_loc = \"raw_data\"\n",
    "adult_loc = \"/Allthenews\""
   ]
  },
  {
   "cell_type": "code",
   "execution_count": 54,
   "id": "015549b3-50e7-489f-b8f0-4b72fdc4e123",
   "metadata": {},
   "outputs": [],
   "source": [
    "#check data in pandas\n",
    "df = pd.read_csv(data_loc + adult_loc +'/articles1.csv',index_col=0)"
   ]
  },
  {
   "cell_type": "code",
   "execution_count": 55,
   "id": "ec04ef83-1874-4285-aa8c-0d241839287c",
   "metadata": {},
   "outputs": [
    {
     "data": {
      "text/html": [
       "<div>\n",
       "<style scoped>\n",
       "    .dataframe tbody tr th:only-of-type {\n",
       "        vertical-align: middle;\n",
       "    }\n",
       "\n",
       "    .dataframe tbody tr th {\n",
       "        vertical-align: top;\n",
       "    }\n",
       "\n",
       "    .dataframe thead th {\n",
       "        text-align: right;\n",
       "    }\n",
       "</style>\n",
       "<table border=\"1\" class=\"dataframe\">\n",
       "  <thead>\n",
       "    <tr style=\"text-align: right;\">\n",
       "      <th></th>\n",
       "      <th>id</th>\n",
       "      <th>title</th>\n",
       "      <th>publication</th>\n",
       "      <th>author</th>\n",
       "      <th>date</th>\n",
       "      <th>year</th>\n",
       "      <th>month</th>\n",
       "      <th>url</th>\n",
       "      <th>content</th>\n",
       "    </tr>\n",
       "  </thead>\n",
       "  <tbody>\n",
       "    <tr>\n",
       "      <th>0</th>\n",
       "      <td>17283</td>\n",
       "      <td>House Republicans Fret About Winning Their Hea...</td>\n",
       "      <td>New York Times</td>\n",
       "      <td>Carl Hulse</td>\n",
       "      <td>2016-12-31</td>\n",
       "      <td>2016.0</td>\n",
       "      <td>12.0</td>\n",
       "      <td>NaN</td>\n",
       "      <td>WASHINGTON  —   Congressional Republicans have...</td>\n",
       "    </tr>\n",
       "    <tr>\n",
       "      <th>1</th>\n",
       "      <td>17284</td>\n",
       "      <td>Rift Between Officers and Residents as Killing...</td>\n",
       "      <td>New York Times</td>\n",
       "      <td>Benjamin Mueller and Al Baker</td>\n",
       "      <td>2017-06-19</td>\n",
       "      <td>2017.0</td>\n",
       "      <td>6.0</td>\n",
       "      <td>NaN</td>\n",
       "      <td>After the bullet shells get counted, the blood...</td>\n",
       "    </tr>\n",
       "    <tr>\n",
       "      <th>2</th>\n",
       "      <td>17285</td>\n",
       "      <td>Tyrus Wong, ‘Bambi’ Artist Thwarted by Racial ...</td>\n",
       "      <td>New York Times</td>\n",
       "      <td>Margalit Fox</td>\n",
       "      <td>2017-01-06</td>\n",
       "      <td>2017.0</td>\n",
       "      <td>1.0</td>\n",
       "      <td>NaN</td>\n",
       "      <td>When Walt Disney’s “Bambi” opened in 1942, cri...</td>\n",
       "    </tr>\n",
       "  </tbody>\n",
       "</table>\n",
       "</div>"
      ],
      "text/plain": [
       "      id                                              title     publication  \\\n",
       "0  17283  House Republicans Fret About Winning Their Hea...  New York Times   \n",
       "1  17284  Rift Between Officers and Residents as Killing...  New York Times   \n",
       "2  17285  Tyrus Wong, ‘Bambi’ Artist Thwarted by Racial ...  New York Times   \n",
       "\n",
       "                          author        date    year  month  url  \\\n",
       "0                     Carl Hulse  2016-12-31  2016.0   12.0  NaN   \n",
       "1  Benjamin Mueller and Al Baker  2017-06-19  2017.0    6.0  NaN   \n",
       "2                   Margalit Fox  2017-01-06  2017.0    1.0  NaN   \n",
       "\n",
       "                                             content  \n",
       "0  WASHINGTON  —   Congressional Republicans have...  \n",
       "1  After the bullet shells get counted, the blood...  \n",
       "2  When Walt Disney’s “Bambi” opened in 1942, cri...  "
      ]
     },
     "execution_count": 55,
     "metadata": {},
     "output_type": "execute_result"
    }
   ],
   "source": [
    "df.head(3)"
   ]
  },
  {
   "cell_type": "code",
   "execution_count": 56,
   "id": "51384b03-be80-467f-b9bf-3f9c82f7e397",
   "metadata": {},
   "outputs": [],
   "source": [
    "# create a small file for testing\n",
    "df.head(3).to_csv(data_loc + adult_loc +'/test.csv',index=False) "
   ]
  },
  {
   "cell_type": "code",
   "execution_count": 72,
   "id": "ca1a71dc-e2be-4fa2-9dc1-23a16e40a178",
   "metadata": {},
   "outputs": [],
   "source": [
    "# convert csv file to text file\n",
    "def csv_converter(input_file, output_file):\n",
    "    \n",
    "    with open(input_file, newline='', ) as csvfile:\n",
    "        spamreader = csv.DictReader(csvfile, delimiter=',')\n",
    "\n",
    "        with open(output_file, 'w') as f:\n",
    "\n",
    "            for row in spamreader:\n",
    "                # print(row['id'])\n",
    "                # print(row['title'])\n",
    "                # print(row['content'])\n",
    "\n",
    "                # process the csv file into text file like wiki-text\n",
    "                f.write(row['id'])\n",
    "                f.write('\\n')\n",
    "                f.write(row['title'])\n",
    "                f.write('\\n')\n",
    "                f.write(row['content'])\n",
    "                f.write('\\n')\n",
    "                f.write('\\n')"
   ]
  },
  {
   "cell_type": "code",
   "execution_count": 73,
   "id": "b575b031-0327-406b-9a9d-b45e130d3ff8",
   "metadata": {},
   "outputs": [],
   "source": [
    "# test the funciton on small test setß\n",
    "test_input = data_loc + adult_loc +'/test.csv'\n",
    "test_output = data_loc + adult_loc+'/test.txt'"
   ]
  },
  {
   "cell_type": "code",
   "execution_count": 74,
   "id": "c2952b17-b86e-45d5-beaf-1e422a4c1d20",
   "metadata": {},
   "outputs": [],
   "source": [
    "csv_converter(test_input, test_output)"
   ]
  },
  {
   "cell_type": "code",
   "execution_count": 77,
   "id": "03d40d2f-5f6c-49ac-a7b6-cd880a2d2e17",
   "metadata": {},
   "outputs": [],
   "source": [
    "# loop over all news files\n",
    "Allthenews_filenames = ['articles1', 'articles2', 'articles3']"
   ]
  },
  {
   "cell_type": "code",
   "execution_count": 78,
   "id": "c4ffec67-4b7a-4651-86ea-3f2774e2c670",
   "metadata": {},
   "outputs": [],
   "source": [
    "# convert all Allthenews files\n",
    "# take about 30 seconds\n",
    "for name in Allthenews_filenames:\n",
    "    csv_input = data_loc + adult_loc + \"/\" + name + '.csv'\n",
    "    text_output = data_loc + adult_loc + \"/\" + name + '.txt'\n",
    "    csv_converter(csv_input, text_output)"
   ]
  },
  {
   "cell_type": "markdown",
   "id": "192812cd-4346-4245-927e-3f86bf65ea6a",
   "metadata": {},
   "source": [
    "### Child set - child_CBT\n",
    "file already in text format"
   ]
  },
  {
   "cell_type": "markdown",
   "id": "ff50f039-5beb-4ad2-bd8b-c8bd6e436f2d",
   "metadata": {},
   "source": [
    "### Intermediate set - fanfiction"
   ]
  },
  {
   "cell_type": "code",
   "execution_count": 80,
   "id": "034b5c77-0a9f-4c5c-8402-3387ee193325",
   "metadata": {},
   "outputs": [],
   "source": [
    "interm_loc = \"/fanfiction/stories\""
   ]
  },
  {
   "cell_type": "code",
   "execution_count": 81,
   "id": "98dc4085-8af0-45e7-8a2e-bda387aa402b",
   "metadata": {},
   "outputs": [],
   "source": [
    "harrypotter_loc = \"/book/Harry-Potter.csv\""
   ]
  },
  {
   "cell_type": "code",
   "execution_count": 85,
   "id": "4ae0abe0-ad37-456c-a11f-7a343476218c",
   "metadata": {},
   "outputs": [
    {
     "data": {
      "text/plain": [
       "'raw_data/fanfiction/stories/book/Harry-Potter.csv'"
      ]
     },
     "execution_count": 85,
     "metadata": {},
     "output_type": "execute_result"
    }
   ],
   "source": [
    "data_loc + interm_loc + harrypotter_loc"
   ]
  },
  {
   "cell_type": "code",
   "execution_count": 88,
   "id": "b5a80d9d-06e4-410f-b02c-71ea278bef4d",
   "metadata": {},
   "outputs": [],
   "source": [
    "#check data in pandas\n",
    "df2 = pd.read_csv(data_loc + interm_loc + harrypotter_loc, on_bad_lines='skip')"
   ]
  },
  {
   "cell_type": "code",
   "execution_count": 89,
   "id": "0a0959f4-a91c-46b8-9d7c-121387598688",
   "metadata": {},
   "outputs": [
    {
     "data": {
      "text/html": [
       "<div>\n",
       "<style scoped>\n",
       "    .dataframe tbody tr th:only-of-type {\n",
       "        vertical-align: middle;\n",
       "    }\n",
       "\n",
       "    .dataframe tbody tr th {\n",
       "        vertical-align: top;\n",
       "    }\n",
       "\n",
       "    .dataframe thead th {\n",
       "        text-align: right;\n",
       "    }\n",
       "</style>\n",
       "<table border=\"1\" class=\"dataframe\">\n",
       "  <thead>\n",
       "    <tr style=\"text-align: right;\">\n",
       "      <th></th>\n",
       "      <th></th>\n",
       "      <th></th>\n",
       "      <th></th>\n",
       "      <th></th>\n",
       "      <th></th>\n",
       "      <th></th>\n",
       "      <th>section\\tsubsection\\tstory\\tauthor\\tstory_id\\tauthor_id\\tlanguage\\tcategory\\trated\\tchapter_count\\treview_count\\tword_count\\tfav_count\\tfollow_count\\tpublished\\tupdated\\tdescription</th>\n",
       "    </tr>\n",
       "  </thead>\n",
       "  <tbody>\n",
       "    <tr>\n",
       "      <th>book\\tHarry-Potter\\t/s/13094923/3/Marauders-Light-Up-The-Night\\t/u/11296189/NoxScribe\\t13094923\\t11296189\\tEnglish\\tFantasy/Friendship\\tK+\\t3\\t1\\t6</th>\n",
       "      <th>624\\t1\\t5\\t1539719594\\t1542484032\\tJames</th>\n",
       "      <th>Sirius</th>\n",
       "      <th>Remus and Peter are starting their fifth year at Hogwarts. At this important time in their lives</th>\n",
       "      <th>they must deal with the struggles of their teenage years</th>\n",
       "      <th>family and friends. And all the time</th>\n",
       "      <th>the threat from the outside world gets stronger</th>\n",
       "      <td>and the Marauders must search inside their he...</td>\n",
       "    </tr>\n",
       "    <tr>\n",
       "      <th>book\\tHarry-Potter\\t/s/13111439/2/Novi-recentesque\\t/u/10886744/5MinuteMiracles\\t13111439\\t10886744\\tEnglish\\tFamily\\tK+\\t2\\t\\t3</th>\n",
       "      <th>017\\t\\t\\t\\t\\t'Everyone knew everyone. Well</th>\n",
       "      <th>almost everyone.' You would expect someone like Katie Williams to be perfectly ordinary. Why do 5 newcomers seem so far out? They almost seem to be part of another world</th>\n",
       "      <th>a world Katie and her family aren't part of.</th>\n",
       "      <th>NaN</th>\n",
       "      <th>NaN</th>\n",
       "      <th>NaN</th>\n",
       "      <td>NaN</td>\n",
       "    </tr>\n",
       "    <tr>\n",
       "      <th>book\\tHarry-Potter\\t/s/13120043/6/The-End-of-the-Beginning\\t/u/10771935/bearearteres\\t13120043\\t10771935\\tEnglish\\tAdventure/Romance\\tT\\t6\\t3\\t7</th>\n",
       "      <th>931\\t5\\t8\\t1542108843\\t1542483515\\tThe order of the phoenix was betrayed by one of their own and defeated by Voldemort in the war. The surviving members fled into hiding</th>\n",
       "      <th>including Lily Evans and Sirius Black</th>\n",
       "      <th>broken with the grief of James Potters death</th>\n",
       "      <th>along with many of their friends. But when a new ally brings hope that not all who were assumed dead are lost</th>\n",
       "      <th>the order reunites once more to fight one last time.</th>\n",
       "      <th>NaN</th>\n",
       "      <td>NaN</td>\n",
       "    </tr>\n",
       "  </tbody>\n",
       "</table>\n",
       "</div>"
      ],
      "text/plain": [
       "                                                                                                                                                                                                                                                                                                                                                                   section\\tsubsection\\tstory\\tauthor\\tstory_id\\tauthor_id\\tlanguage\\tcategory\\trated\\tchapter_count\\treview_count\\tword_count\\tfav_count\\tfollow_count\\tpublished\\tupdated\\tdescription\n",
       "book\\tHarry-Potter\\t/s/13094923/3/Marauders-Lig... 624\\t1\\t5\\t1539719594\\t1542484032\\tJames            Sirius                                             Remus and Peter are starting their fifth year ...  they must deal with the struggles of their tee...  family and friends. And all the time               the threat from the outside world gets stronger   and the Marauders must search inside their he...                                                                                                                                   \n",
       "book\\tHarry-Potter\\t/s/13111439/2/Novi-recentes... 017\\t\\t\\t\\t\\t'Everyone knew everyone. Well          almost everyone.' You would expect someone lik...  a world Katie and her family aren't part of.      NaN                                                NaN                                                NaN                                                                                             NaN                                                                                                                                   \n",
       "book\\tHarry-Potter\\t/s/13120043/6/The-End-of-th... 931\\t5\\t8\\t1542108843\\t1542483515\\tThe order of...  including Lily Evans and Sirius Black              broken with the grief of James Potters death       along with many of their friends. But when a n...  the order reunites once more to fight one last... NaN                                                                                             NaN                                                                                                                                   "
      ]
     },
     "execution_count": 89,
     "metadata": {},
     "output_type": "execute_result"
    }
   ],
   "source": [
    "df2.head(3)"
   ]
  },
  {
   "cell_type": "code",
   "execution_count": null,
   "id": "f8d9891e-5f3a-4c7e-a66d-696a29b649b9",
   "metadata": {},
   "outputs": [],
   "source": []
  }
 ],
 "metadata": {
  "kernelspec": {
   "display_name": "Python 3 (ipykernel)",
   "language": "python",
   "name": "python3"
  },
  "language_info": {
   "codemirror_mode": {
    "name": "ipython",
    "version": 3
   },
   "file_extension": ".py",
   "mimetype": "text/x-python",
   "name": "python",
   "nbconvert_exporter": "python",
   "pygments_lexer": "ipython3",
   "version": "3.8.13"
  }
 },
 "nbformat": 4,
 "nbformat_minor": 5
}

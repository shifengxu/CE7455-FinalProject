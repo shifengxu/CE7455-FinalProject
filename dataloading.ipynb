{
 "cells": [
  {
   "cell_type": "markdown",
   "id": "d8deea88-290b-4ac4-8455-28f39251b6e4",
   "metadata": {},
   "source": [
    "## Datasets"
   ]
  },
  {
   "cell_type": "markdown",
   "id": "21b48764-2dd1-4c37-bf55-46fe8c391beb",
   "metadata": {},
   "source": [
    "### Children's Book Test(CBT)\n",
    "https://research.facebook.com/downloads/babi/ <br>\n",
    "download link (134MB): <br>\n",
    "http://www.thespermwhale.com/jaseweston/babi/CBTest.tgz <br>"
   ]
  },
  {
   "cell_type": "markdown",
   "id": "bdc470f5-cf25-41f4-9590-cb8b78ce4a69",
   "metadata": {},
   "source": [
    "### Intermediate Dataset\n",
    "Science Fiction dataset (1.21GB)(selected): <br>\n",
    "https://github.com/nschaetti/SFGram-dataset <br>\n",
    "Fanfiction (largely written by adolescents) (725GB) (csv, not easy work with): <br> \n",
    "https://www.kaggle.com/metrovirus/fanfictionnet "
   ]
  },
  {
   "cell_type": "markdown",
   "id": "2260f9a7-835a-473f-b016-019f44d8c8fe",
   "metadata": {},
   "source": [
    "### Adult Reading\n",
    "BBC News: <br>\n",
    "https://www.kaggle.com/c/learn-ai-bbc (can not use) <br>\n",
    "All the news (669.64MB) (selected): <br>\n",
    "https://www.kaggle.com/datasets/snapcrack/all-the-news"
   ]
  },
  {
   "cell_type": "markdown",
   "id": "aa765dcf-48d2-473e-8f0f-2ffc1a63bac0",
   "metadata": {},
   "source": [
    "## How to download data to your Github"
   ]
  },
  {
   "cell_type": "code",
   "execution_count": 8,
   "id": "49fb0f83-c81f-49c8-b1b5-9d1aed84a890",
   "metadata": {},
   "outputs": [
    {
     "name": "stdout",
     "output_type": "stream",
     "text": [
      "mkdir: raw_data: File exists\n"
     ]
    }
   ],
   "source": [
    "# create a data folder\n",
    "!mkdir raw_data"
   ]
  },
  {
   "cell_type": "code",
   "execution_count": 9,
   "id": "6f639926-ae21-4bc5-8b53-05b4772df319",
   "metadata": {},
   "outputs": [],
   "source": [
    "# Download data from OneDrive and move the data to raw_data folder\n",
    "# https://entuedu-my.sharepoint.com/:f:/g/personal/yang047_e_ntu_edu_sg/EtJcTA5lzDRNkwtHE0W8FAwBcDjnCHghMYNq6UCd2t82lA?e=2BoJ3w"
   ]
  },
  {
   "cell_type": "code",
   "execution_count": 10,
   "id": "9d4da65a-2f7d-4eb0-aa20-a74604df2c2d",
   "metadata": {},
   "outputs": [],
   "source": [
    "# Please add to your github's .gitigonore file\n",
    "# raw_data/\n",
    "# So your github will not trying to upload these large data files to web"
   ]
  },
  {
   "cell_type": "markdown",
   "id": "5a0acbef-3ec6-4075-b300-157590e09e34",
   "metadata": {},
   "source": [
    "## Data Checking and Preprocessing"
   ]
  },
  {
   "cell_type": "code",
   "execution_count": 97,
   "id": "d62285ce-62b0-4d8d-a188-9e62836be590",
   "metadata": {},
   "outputs": [
    {
     "data": {
      "text/plain": [
       "9223372036854775807"
      ]
     },
     "execution_count": 97,
     "metadata": {},
     "output_type": "execute_result"
    }
   ],
   "source": [
    "# working with CSV formated dataset\n",
    "# for Allthenew, we only need the title and the content\n",
    "import pandas as pd\n",
    "import csv\n",
    "import sys\n",
    "import os\n",
    "csv.field_size_limit(sys.maxsize)"
   ]
  },
  {
   "cell_type": "markdown",
   "id": "6952640f-6097-48c9-95c7-f5d95e5bd68a",
   "metadata": {},
   "source": [
    "### Adult set - Allthenews"
   ]
  },
  {
   "cell_type": "code",
   "execution_count": 19,
   "id": "51dfd55a-5e84-4f24-8016-d2e21b6a83b9",
   "metadata": {},
   "outputs": [],
   "source": [
    "data_loc = \"raw_data\"\n",
    "adult_loc = \"/Allthenews\""
   ]
  },
  {
   "cell_type": "code",
   "execution_count": 54,
   "id": "015549b3-50e7-489f-b8f0-4b72fdc4e123",
   "metadata": {},
   "outputs": [],
   "source": [
    "#check data in pandas\n",
    "df = pd.read_csv(data_loc + adult_loc +'/articles1.csv',index_col=0)"
   ]
  },
  {
   "cell_type": "code",
   "execution_count": 55,
   "id": "ec04ef83-1874-4285-aa8c-0d241839287c",
   "metadata": {},
   "outputs": [
    {
     "data": {
      "text/html": [
       "<div>\n",
       "<style scoped>\n",
       "    .dataframe tbody tr th:only-of-type {\n",
       "        vertical-align: middle;\n",
       "    }\n",
       "\n",
       "    .dataframe tbody tr th {\n",
       "        vertical-align: top;\n",
       "    }\n",
       "\n",
       "    .dataframe thead th {\n",
       "        text-align: right;\n",
       "    }\n",
       "</style>\n",
       "<table border=\"1\" class=\"dataframe\">\n",
       "  <thead>\n",
       "    <tr style=\"text-align: right;\">\n",
       "      <th></th>\n",
       "      <th>id</th>\n",
       "      <th>title</th>\n",
       "      <th>publication</th>\n",
       "      <th>author</th>\n",
       "      <th>date</th>\n",
       "      <th>year</th>\n",
       "      <th>month</th>\n",
       "      <th>url</th>\n",
       "      <th>content</th>\n",
       "    </tr>\n",
       "  </thead>\n",
       "  <tbody>\n",
       "    <tr>\n",
       "      <th>0</th>\n",
       "      <td>17283</td>\n",
       "      <td>House Republicans Fret About Winning Their Hea...</td>\n",
       "      <td>New York Times</td>\n",
       "      <td>Carl Hulse</td>\n",
       "      <td>2016-12-31</td>\n",
       "      <td>2016.0</td>\n",
       "      <td>12.0</td>\n",
       "      <td>NaN</td>\n",
       "      <td>WASHINGTON  —   Congressional Republicans have...</td>\n",
       "    </tr>\n",
       "    <tr>\n",
       "      <th>1</th>\n",
       "      <td>17284</td>\n",
       "      <td>Rift Between Officers and Residents as Killing...</td>\n",
       "      <td>New York Times</td>\n",
       "      <td>Benjamin Mueller and Al Baker</td>\n",
       "      <td>2017-06-19</td>\n",
       "      <td>2017.0</td>\n",
       "      <td>6.0</td>\n",
       "      <td>NaN</td>\n",
       "      <td>After the bullet shells get counted, the blood...</td>\n",
       "    </tr>\n",
       "    <tr>\n",
       "      <th>2</th>\n",
       "      <td>17285</td>\n",
       "      <td>Tyrus Wong, ‘Bambi’ Artist Thwarted by Racial ...</td>\n",
       "      <td>New York Times</td>\n",
       "      <td>Margalit Fox</td>\n",
       "      <td>2017-01-06</td>\n",
       "      <td>2017.0</td>\n",
       "      <td>1.0</td>\n",
       "      <td>NaN</td>\n",
       "      <td>When Walt Disney’s “Bambi” opened in 1942, cri...</td>\n",
       "    </tr>\n",
       "  </tbody>\n",
       "</table>\n",
       "</div>"
      ],
      "text/plain": [
       "      id                                              title     publication  \\\n",
       "0  17283  House Republicans Fret About Winning Their Hea...  New York Times   \n",
       "1  17284  Rift Between Officers and Residents as Killing...  New York Times   \n",
       "2  17285  Tyrus Wong, ‘Bambi’ Artist Thwarted by Racial ...  New York Times   \n",
       "\n",
       "                          author        date    year  month  url  \\\n",
       "0                     Carl Hulse  2016-12-31  2016.0   12.0  NaN   \n",
       "1  Benjamin Mueller and Al Baker  2017-06-19  2017.0    6.0  NaN   \n",
       "2                   Margalit Fox  2017-01-06  2017.0    1.0  NaN   \n",
       "\n",
       "                                             content  \n",
       "0  WASHINGTON  —   Congressional Republicans have...  \n",
       "1  After the bullet shells get counted, the blood...  \n",
       "2  When Walt Disney’s “Bambi” opened in 1942, cri...  "
      ]
     },
     "execution_count": 55,
     "metadata": {},
     "output_type": "execute_result"
    }
   ],
   "source": [
    "df.head(3)"
   ]
  },
  {
   "cell_type": "code",
   "execution_count": 56,
   "id": "51384b03-be80-467f-b9bf-3f9c82f7e397",
   "metadata": {},
   "outputs": [],
   "source": [
    "# create a small file for testing\n",
    "df.head(3).to_csv(data_loc + adult_loc +'/test.csv',index=False) "
   ]
  },
  {
   "cell_type": "code",
   "execution_count": 72,
   "id": "ca1a71dc-e2be-4fa2-9dc1-23a16e40a178",
   "metadata": {},
   "outputs": [],
   "source": [
    "# convert csv file to text file\n",
    "def csv_converter(input_file, output_file):\n",
    "    \n",
    "    with open(input_file, newline='', ) as csvfile:\n",
    "        spamreader = csv.DictReader(csvfile, delimiter=',')\n",
    "\n",
    "        with open(output_file, 'w') as f:\n",
    "\n",
    "            for row in spamreader:\n",
    "                # print(row['id'])\n",
    "                # print(row['title'])\n",
    "                # print(row['content'])\n",
    "\n",
    "                # process the csv file into text file like wiki-text\n",
    "                f.write(row['id'])\n",
    "                f.write('\\n')\n",
    "                f.write(row['title'])\n",
    "                f.write('\\n')\n",
    "                f.write(row['content'])\n",
    "                f.write('\\n')\n",
    "                f.write('\\n')"
   ]
  },
  {
   "cell_type": "code",
   "execution_count": 73,
   "id": "b575b031-0327-406b-9a9d-b45e130d3ff8",
   "metadata": {},
   "outputs": [],
   "source": [
    "# test the funciton on small test setß\n",
    "test_input = data_loc + adult_loc +'/test.csv'\n",
    "test_output = data_loc + adult_loc+'/test.txt'"
   ]
  },
  {
   "cell_type": "code",
   "execution_count": 74,
   "id": "c2952b17-b86e-45d5-beaf-1e422a4c1d20",
   "metadata": {},
   "outputs": [],
   "source": [
    "csv_converter(test_input, test_output)"
   ]
  },
  {
   "cell_type": "code",
   "execution_count": 77,
   "id": "03d40d2f-5f6c-49ac-a7b6-cd880a2d2e17",
   "metadata": {},
   "outputs": [],
   "source": [
    "# loop over all news files\n",
    "Allthenews_filenames = ['articles1', 'articles2', 'articles3']"
   ]
  },
  {
   "cell_type": "code",
   "execution_count": 78,
   "id": "c4ffec67-4b7a-4651-86ea-3f2774e2c670",
   "metadata": {},
   "outputs": [],
   "source": [
    "# convert all Allthenews files\n",
    "# take about 30 seconds\n",
    "for name in Allthenews_filenames:\n",
    "    csv_input = data_loc + adult_loc + \"/\" + name + '.csv'\n",
    "    text_output = data_loc + adult_loc + \"/\" + name + '.txt'\n",
    "    csv_converter(csv_input, text_output)"
   ]
  },
  {
   "cell_type": "markdown",
   "id": "192812cd-4346-4245-927e-3f86bf65ea6a",
   "metadata": {},
   "source": [
    "### Child set - child_CBT\n",
    "file already in text format"
   ]
  },
  {
   "cell_type": "markdown",
   "id": "ff50f039-5beb-4ad2-bd8b-c8bd6e436f2d",
   "metadata": {},
   "source": [
    "### Intermediate set - fanfiction"
   ]
  },
  {
   "cell_type": "code",
   "execution_count": 80,
   "id": "034b5c77-0a9f-4c5c-8402-3387ee193325",
   "metadata": {},
   "outputs": [],
   "source": [
    "# fanfiction\n",
    "# problems, csv, different language than english\n",
    "interm_loc = \"/fanfiction/Fanfiction.net/stories\""
   ]
  },
  {
   "cell_type": "code",
   "execution_count": 81,
   "id": "98dc4085-8af0-45e7-8a2e-bda387aa402b",
   "metadata": {},
   "outputs": [],
   "source": [
    "harrypotter_loc = \"/book/Harry-Potter.csv\""
   ]
  },
  {
   "cell_type": "code",
   "execution_count": 85,
   "id": "4ae0abe0-ad37-456c-a11f-7a343476218c",
   "metadata": {},
   "outputs": [
    {
     "data": {
      "text/plain": [
       "'raw_data/fanfiction/stories/book/Harry-Potter.csv'"
      ]
     },
     "execution_count": 85,
     "metadata": {},
     "output_type": "execute_result"
    }
   ],
   "source": [
    "data_loc + interm_loc + harrypotter_loc"
   ]
  },
  {
   "cell_type": "code",
   "execution_count": 88,
   "id": "b5a80d9d-06e4-410f-b02c-71ea278bef4d",
   "metadata": {},
   "outputs": [],
   "source": [
    "#check data in pandas\n",
    "df2 = pd.read_csv(data_loc + interm_loc + harrypotter_loc, on_bad_lines='skip')"
   ]
  },
  {
   "cell_type": "code",
   "execution_count": 110,
   "id": "d598439e-4bcb-4e54-b886-8f907602e179",
   "metadata": {},
   "outputs": [],
   "source": [
    "# fanfiction not easy work with"
   ]
  },
  {
   "cell_type": "code",
   "execution_count": null,
   "id": "0a0959f4-a91c-46b8-9d7c-121387598688",
   "metadata": {},
   "outputs": [],
   "source": [
    "df2.head(3)"
   ]
  },
  {
   "cell_type": "code",
   "execution_count": 113,
   "id": "f8d9891e-5f3a-4c7e-a66d-696a29b649b9",
   "metadata": {},
   "outputs": [],
   "source": [
    "# SFGram-dataset\n",
    "# text file, easiler to work with\n",
    "interm_loc = \"/fanfiction/SFGram-dataset-master/book-contents/\""
   ]
  },
  {
   "cell_type": "code",
   "execution_count": 114,
   "id": "890b2bf6-0c56-4124-b543-92b832810a61",
   "metadata": {},
   "outputs": [],
   "source": [
    "path_interm = data_loc + interm_loc"
   ]
  },
  {
   "cell_type": "code",
   "execution_count": 116,
   "id": "2c1a1f7c-ad8d-4df2-9d45-ee3d19be778d",
   "metadata": {},
   "outputs": [
    {
     "name": "stdout",
     "output_type": "stream",
     "text": [
      "The Time Machine, by H. G. Wells [1898]\n",
      "I\n",
      "The Time Traveller (for so it will be convenient to speak of him)\n",
      "was expounding a recondite matter to us. His grey eyes shone and\n",
      "twinkled, and his usually pale face was flushed and animated. The\n",
      "fire burned brightly, and the soft radiance of the incandescent\n",
      "lights in the lilies of silver caught the bubbles that flashed and\n",
      "passed in our glasses. Our chairs, being his patents, embraced and\n",
      "caressed us rather than submitted to be sat upon, and there was that\n",
      "luxurious after-dinner atmosphere when thought roams gracefully\n"
     ]
    }
   ],
   "source": [
    "# check text file\n",
    "!head raw_data/fanfiction/SFGram-dataset-master/book-contents/book00001.txt"
   ]
  },
  {
   "cell_type": "code",
   "execution_count": 112,
   "id": "3e6e68f5-da7b-41b5-a157-20d551adf641",
   "metadata": {},
   "outputs": [],
   "source": [
    "# need to deal with fixed line length, in curpus this is taken care of"
   ]
  },
  {
   "cell_type": "markdown",
   "id": "f7b31fcc-6a23-4a5a-ad96-f0d5eeb5d14a",
   "metadata": {},
   "source": [
    "Now all needed datesets are in .txt format"
   ]
  },
  {
   "cell_type": "markdown",
   "id": "1345018e-8372-4f36-9c42-58bfa33a8627",
   "metadata": {},
   "source": [
    "## Data Analysis"
   ]
  },
  {
   "cell_type": "code",
   "execution_count": null,
   "id": "91aacaa4-91b2-483b-83f3-f6aae2631df0",
   "metadata": {},
   "outputs": [],
   "source": []
  }
 ],
 "metadata": {
  "kernelspec": {
   "display_name": "Python 3 (ipykernel)",
   "language": "python",
   "name": "python3"
  },
  "language_info": {
   "codemirror_mode": {
    "name": "ipython",
    "version": 3
   },
   "file_extension": ".py",
   "mimetype": "text/x-python",
   "name": "python",
   "nbconvert_exporter": "python",
   "pygments_lexer": "ipython3",
   "version": "3.8.13"
  }
 },
 "nbformat": 4,
 "nbformat_minor": 5
}

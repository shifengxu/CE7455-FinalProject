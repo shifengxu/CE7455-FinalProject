{
 "cells": [
  {
   "cell_type": "markdown",
   "id": "21b48764-2dd1-4c37-bf55-46fe8c391beb",
   "metadata": {},
   "source": [
    "## Children's Book Test(CBT)\n",
    "https://research.facebook.com/downloads/babi/ <br>\n",
    "download link (134MB): <br>\n",
    "http://www.thespermwhale.com/jaseweston/babi/CBTest.tgz <br>"
   ]
  },
  {
   "cell_type": "markdown",
   "id": "bdc470f5-cf25-41f4-9590-cb8b78ce4a69",
   "metadata": {},
   "source": [
    "## Intermediate Dataset\n",
    "Science Fiction dataset (1.21GB): <br>\n",
    "https://github.com/nschaetti/SFGram-dataset <br>\n",
    "Fanfiction (largely written by adolescents) (725GB): <br> \n",
    "https://www.kaggle.com/metrovirus/fanfictionnet "
   ]
  },
  {
   "cell_type": "markdown",
   "id": "2260f9a7-835a-473f-b016-019f44d8c8fe",
   "metadata": {},
   "source": [
    "## Adult Reading\n",
    "BBC News: <br>\n",
    "https://www.kaggle.com/c/learn-ai-bbc (can not use) <br>\n",
    "All the news (669.64MB): <br>\n",
    "https://www.kaggle.com/datasets/snapcrack/all-the-news"
   ]
  },
  {
   "cell_type": "code",
   "execution_count": null,
   "id": "49fb0f83-c81f-49c8-b1b5-9d1aed84a890",
   "metadata": {},
   "outputs": [],
   "source": [
    "# create a data folder\n",
    "!mkdir data"
   ]
  },
  {
   "cell_type": "code",
   "execution_count": null,
   "id": "6f639926-ae21-4bc5-8b53-05b4772df319",
   "metadata": {},
   "outputs": [],
   "source": [
    "# data weblink\n",
    "# child_dataset = \"http://www.thespermwhale.com/jaseweston/babi/CBTest.tgz\"\n",
    "# inter_dataset = \"https://www.kaggle.com/datasets/metrovirus/fanfictionnet?select=stories.zip\"\n",
    "# adult_dataset = \""
   ]
  },
  {
   "cell_type": "code",
   "execution_count": null,
   "id": "9d4da65a-2f7d-4eb0-aa20-a74604df2c2d",
   "metadata": {},
   "outputs": [],
   "source": []
  },
  {
   "cell_type": "code",
   "execution_count": null,
   "id": "d05c3a97-6e23-4c7a-82ae-2123448070fd",
   "metadata": {},
   "outputs": [],
   "source": []
  }
 ],
 "metadata": {
  "kernelspec": {
   "display_name": "Python 3 (ipykernel)",
   "language": "python",
   "name": "python3"
  },
  "language_info": {
   "codemirror_mode": {
    "name": "ipython",
    "version": 3
   },
   "file_extension": ".py",
   "mimetype": "text/x-python",
   "name": "python",
   "nbconvert_exporter": "python",
   "pygments_lexer": "ipython3",
   "version": "3.7.11"
  }
 },
 "nbformat": 4,
 "nbformat_minor": 5
}

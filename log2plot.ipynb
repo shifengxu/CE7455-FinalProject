{
 "cells": [
  {
   "cell_type": "code",
   "execution_count": 31,
   "id": "d63224c3-c3a8-4a3f-98ab-b528297aa15f",
   "metadata": {},
   "outputs": [],
   "source": [
    "import numpy as np\n",
    "import matplotlib.pyplot as plt"
   ]
  },
  {
   "cell_type": "markdown",
   "id": "9803b191-07ee-4c64-9d6f-9b1bd6566a2a",
   "metadata": {},
   "source": [
    "## outputSample"
   ]
  },
  {
   "cell_type": "markdown",
   "id": "481d0638-05b0-4984-bae8-d6bac9c805a3",
   "metadata": {},
   "source": [
    "## Cbt"
   ]
  },
  {
   "cell_type": "markdown",
   "id": "b9558a66-48d9-4aa2-880f-71b9283f5047",
   "metadata": {},
   "source": [
    "### outputSampleCbt\n",
    "### outputFragmentCbt"
   ]
  },
  {
   "cell_type": "code",
   "execution_count": 2,
   "id": "090ca649-b834-47da-ab4c-f2824fb163ea",
   "metadata": {},
   "outputs": [],
   "source": [
    "# output_sws_00000_chm_None.log"
   ]
  },
  {
   "cell_type": "code",
   "execution_count": 3,
   "id": "938aec36-31ce-45a1-a941-44ed0bf2983e",
   "metadata": {},
   "outputs": [],
   "source": [
    "# tags: oS_cbt_0_None"
   ]
  },
  {
   "cell_type": "code",
   "execution_count": 4,
   "id": "e4340ab7-e5ce-496a-8e4b-6dd2da284711",
   "metadata": {},
   "outputs": [],
   "source": [
    "oS_cbt_0_None_valid_loss = \\\n",
    "[5.46, 5.08, 4.90, 4.82, 4.77, 4.72, 4.71, 4.70, 4.69, 4.70, 4.66, 4.65, 4.67, 4.66, 4.66, 4.65, 4.66, 4.65, 4.65, 4.64, 4.65, 4.64, 4.64, 4.64, 4.64, 4.64, 4.64, 4.64, 4.64, 4.64, 4.64, 4.64, 4.64, 4.64, 4.64, 4.64, 4.64, 4.64, 4.64, 4.64]\n",
    "oS_cbt_0_None_valid_loss_ppl = \\\n",
    "[235.28,  160.02,  133.96,  124.38,  118.49,  111.72,  111.06,  109.86,  109.19,  109.98,  105.70,  105.05,  106.43,  105.73,  105.13,  104.83,  105.12,  104.48,  104.54,  104.06,  104.07,  103.91,  103.86,  103.87,  103.77,  103.71,  103.69,  103.71,  103.70,  103.69,  103.67,  103.67,  103.67,  103.67,  103.67,  103.67,  103.66,  103.66,  103.66,  103.66]\n",
    "oS_cbt_0_None_testloss_adolescent_ppl= \\\n",
    "[6742.21, 6466.02, 5823.80, 5808.88, 5693.70, 5914.15, 6183.51, 6335.42, 6832.05, 7798.01, 9973.63, 9561.88,10848.83,12101.61,12763.28,12885.66,13175.58,13239.35,13255.14,13179.85,13282.31,13318.13,13377.60,13393.21,13364.84,13353.62,13323.19,13328.14,13345.69,13331.97,13332.65,13348.14,13360.75,13353.38,13354.45,13351.48,13348.23,13348.07,13340.87,13344.02]\n",
    "oS_cbt_0_None_testloss_adult_ppl= \\\n",
    "[7976.76, 8683.15, 8054.29, 8374.81, 8902.23,10323.09,11465.00,12055.18,13562.45,15151.69,18176.07,17277.80,20736.25,23677.12,24373.87,24809.03,25830.63,25202.58,25246.12,25143.36,25182.75,25078.52,25224.48,25228.11,25134.29,25176.21,25157.15,25171.97,25149.59,25095.33,25080.04,25103.28,25132.17,25114.71,25110.65,25090.48,25082.88,25078.45,25055.59,25057.93]"
   ]
  },
  {
   "cell_type": "code",
   "execution_count": 5,
   "id": "22072f69-0f66-4a7d-810a-7f412eb82cec",
   "metadata": {},
   "outputs": [],
   "source": [
    "# output_sws_00000_chm_CNN.log"
   ]
  },
  {
   "cell_type": "code",
   "execution_count": 6,
   "id": "29c29db7-8249-4462-8524-f230b667e722",
   "metadata": {},
   "outputs": [],
   "source": [
    "# tags: oS_cbt_0_CNN"
   ]
  },
  {
   "cell_type": "code",
   "execution_count": 7,
   "id": "f5b07ad8-c36a-47da-94a3-ba3ee95376dc",
   "metadata": {},
   "outputs": [],
   "source": [
    "oS_cbt_0_CNN_valid_loss_ppl = \\\n",
    "[221.11,  163.01,  135.38,  127.00,  120.21,  115.98,  112.03,  110.26,  108.26,  109.64,  100.13,  100.93,   99.49,   99.60,   99.18,   99.57,   98.80,   99.12,   98.55,   98.47,   98.57,   98.30,   98.33,   98.05,   98.03,   98.02,   98.05,   97.92,   97.92,   97.87,   97.88,   97.87,   97.86,   97.85,   97.83,   97.83,   97.82,   97.82,   97.82,   97.82]\n",
    "oS_cbt_0_CNN_testloss_adolescent_ppl= \\\n",
    "[6554.96, 6542.95, 5952.69, 5753.61, 5990.84, 6386.97, 6484.19, 6377.44, 6922.18, 8040.37, 9488.20, 9472.21,10990.12,11544.63,11437.17,12082.54,12378.09,12238.69,12290.21,12176.52,12401.62,12383.02,12499.80,12330.26,12300.54,12349.06,12331.16,12321.58,12371.75,12354.30,12355.98,12335.51,12321.38,12325.70,12331.46,12319.66,12323.60,12334.15,12330.85,12327.21]\n",
    "oS_cbt_0_CNN_testloss_adult_ppl= \\\n",
    "[7699.68, 8198.10, 8759.86, 8438.57, 9257.19, 9480.59, 9398.62, 9326.98,10491.23,14909.19,15310.15,15335.00,18038.72,20619.05,19855.73,22245.17,23359.96,22110.13,23462.31,23140.46,23199.47,23317.25,23226.55,22545.52,22285.84,22270.93,22146.33,22023.12,22243.89,22054.31,21904.62,21786.95,21719.78,21710.50,21788.96,21735.41,21728.35,21804.47,21788.06,21761.27]"
   ]
  },
  {
   "cell_type": "code",
   "execution_count": 8,
   "id": "2405d94f-d072-4275-b0b4-68600ec09200",
   "metadata": {},
   "outputs": [],
   "source": [
    "# output_sws_00000_chm_LSTM.log"
   ]
  },
  {
   "cell_type": "code",
   "execution_count": 9,
   "id": "b5a24ce9-6707-4774-97f1-2e177e4de774",
   "metadata": {},
   "outputs": [],
   "source": [
    "# tags: oS_cbt_0_LSTM"
   ]
  },
  {
   "cell_type": "code",
   "execution_count": 11,
   "id": "a787c6f6-abd9-4334-9bfe-c0f227982946",
   "metadata": {},
   "outputs": [],
   "source": [
    "oS_cbt_0_LSTM_valid_loss_ppl = \\\n",
    "[233.37,  159.43,  136.22,  119.88,  113.49,  111.50,  108.80,  107.57,  105.92,  105.77,  106.26,  102.00,  102.26,  101.77,  102.11,  102.37,  102.14,  101.94,  101.29,  101.29,  101.35,  101.13,  101.09,  101.08,  101.07,  101.11,  100.94,  100.95,  100.86,  100.84,  100.83,  100.86,  100.82,  100.82,  100.82,  100.81,  100.81,  100.81,  100.81,  100.80]\n",
    "oS_cbt_0_LSTM_testloss_adolescent_ppl= \\\n",
    "[6744.76, 6927.00, 7248.82, 7081.57, 6975.55, 7977.44, 8393.21, 9201.74, 9274.06,11187.11,11170.19,14741.41,15181.27,17281.95,18381.64,19490.78,20554.72,19698.54,19298.09,19283.35,19453.10,19281.62,19297.12,19388.35,19244.45,19293.34,19373.83,19368.14,19386.90,19344.90,19375.83,19384.54,19376.39,19378.36,19386.53,19390.73,19391.55,19398.09,19395.68,19391.60]\n",
    "oS_cbt_0_LSTM_testloss_adult_ppl= \\\n",
    "[9465.37,10374.07,10610.78,12938.71,13675.05,15305.01,15315.98,21308.40,19046.98,25088.43,26718.64,32803.97,35458.59,38303.02,39295.44,37836.36,36748.65,36353.23,36595.38,36242.53,36140.12,36382.65,35776.20,35693.30,35925.50,35933.67,35808.44,35810.46,35897.06,35892.45,35830.98,35799.41,35791.91,35806.39,35805.20,35822.14,35819.90,35810.22]"
   ]
  },
  {
   "cell_type": "code",
   "execution_count": 12,
   "id": "e407f7c1-70e5-4358-b444-5185fa6c40b1",
   "metadata": {},
   "outputs": [],
   "source": [
    "# outputFragmentCbt"
   ]
  },
  {
   "cell_type": "code",
   "execution_count": 13,
   "id": "192e3c03-1e10-42c3-9a8d-d9f978df9b92",
   "metadata": {},
   "outputs": [],
   "source": [
    "# output_sws_00200_chm_None.log - output_sws_10000_chm_None.log"
   ]
  },
  {
   "cell_type": "code",
   "execution_count": 14,
   "id": "9172244e-0e2d-41ae-b79a-942acc84cbf1",
   "metadata": {},
   "outputs": [],
   "source": [
    "# tages: oS_cbt_200_CNN, oS_cbt_500_LSTM"
   ]
  },
  {
   "cell_type": "code",
   "execution_count": 15,
   "id": "d315d6ea-f8ad-4692-982b-a3ecc07fd055",
   "metadata": {},
   "outputs": [],
   "source": [
    "oS_cbt_200_CNN_valid_loss_ppl = \\\n",
    "[212.44,  153.89,  132.28,  119.94,  116.37,  113.10,  109.90,  108.14,  107.97,  108.63,   99.93,  100.61,  100.34,   99.07,   99.13,   98.76,   99.03,   98.57,   98.42,   98.44]\n",
    "oS_cbt_200_CNN_testloss_adolescent_ppl= \\\n",
    "[7344.12, 6427.16, 6311.87, 7955.31, 6881.28, 6078.37, 7518.89, 8231.56, 8697.40,10591.81,11635.42,13036.16,14841.40,14402.20,15085.10,15251.15,15877.81,15448.97,15566.12,15557.68]\n",
    "oS_cbt_200_CNN_testloss_adult_ppl= \\\n",
    "[8435.13, 8455.80, 8631.42,10958.35, 8393.73, 9837.60,11160.73,11888.98,15375.15,21398.76,23620.69,27532.43,24957.40,21677.93,24030.01,23476.11,23760.96,23042.40,23350.17,23942.22]"
   ]
  },
  {
   "cell_type": "code",
   "execution_count": 16,
   "id": "b93e03ab-461e-4f96-ae37-92a1c0478b6d",
   "metadata": {},
   "outputs": [],
   "source": [
    "oS_cbt_200_LSTM_valid_loss_ppl = \\\n",
    "[207.99,  158.08,  123.41,  128.05,  104.88,  103.62,  102.57,  101.77,  102.82,   99.53,   99.80,   98.65,   98.85,   98.43,   98.58,   98.29,   98.35,   98.26,   98.15,   98.20]\n",
    "oS_cbt_200_LSTM_testloss_adolescent_ppl= \\\n",
    "[7534.73, 5968.06, 6046.13, 6073.33, 8004.26, 9494.35, 8689.10,11897.02,12077.62,12962.08,13196.31,13418.82,14633.26,14389.77,14746.56,14345.56,14448.58,14062.41,14462.03,14546.97]\n",
    "oS_cbt_200_LSTM_testloss_adult_ppl= \\\n",
    "[8384.89, 7282.42, 7734.77, 8261.05,10058.27,12039.29,10236.03,17381.17,15175.55,19366.03,20526.07,21283.39,23444.75,21701.12,23036.31,21304.44,22235.94,19469.64,21084.46,20485.01]"
   ]
  },
  {
   "cell_type": "code",
   "execution_count": 17,
   "id": "4476c68d-e4e4-4257-b72c-17c7b0a5228e",
   "metadata": {},
   "outputs": [],
   "source": [
    "oS_cbt_500_CNN_valid_loss_ppl = \\\n",
    "[225.96,  159.51,  133.96,  121.89,  115.07,  112.50,  108.12,  109.80,   99.37,   99.83,   97.73,   98.13,   97.63,   97.69,   97.33,   97.27,   97.39,   97.03,   97.13,   96.84]\n",
    "oS_cbt_500_CNN_testloss_adolescent_ppl= \\\n",
    "[7965.40, 5982.88, 5701.62, 6091.86, 6796.65, 5982.31, 7227.06, 7639.17,11212.85,10484.80,13671.20,13622.34,13784.57,13492.08,12503.07,11921.11,11628.66,11158.05,11061.27,10911.75]\n",
    "oS_cbt_500_CNN_testloss_adult_ppl= \\\n",
    "[8153.03, 7206.27, 7395.41, 7909.25, 8509.43, 8151.17, 9180.14,10593.58,11248.46,12685.48,13553.74,14867.77,14139.90,15006.98,14369.21,14454.77,14351.17,14367.25,14270.29,13894.94]"
   ]
  },
  {
   "cell_type": "code",
   "execution_count": 18,
   "id": "73128ac8-6484-4fc0-b1af-69821e88ebbd",
   "metadata": {},
   "outputs": [],
   "source": [
    "oS_cbt_500_LSTM_valid_loss_ppl = \\\n",
    "[222.54,  155.81,  131.75,  126.72,  113.43,  110.93,  107.81,  107.38,  105.45,  106.78,  102.61,  102.27,  102.96,  102.81,  101.60,  101.84,  101.84,  101.17,  101.14,  101.54]\n",
    "oS_cbt_500_LSTM_testloss_adolescent_ppl= \\\n",
    "[7380.43, 6293.55, 5519.60, 5960.07, 5457.48, 5734.90, 5704.33, 5913.01, 6305.36, 6854.64, 8434.79, 9210.44, 9829.65,11133.01,12058.59,12487.88,13122.59,12955.71,13205.54,12849.26]\n",
    "oS_cbt_500_LSTM_testloss_adult_ppl= \\\n",
    "[8499.26, 7779.08, 7510.15, 8824.05, 8415.52, 9954.82,10291.58, 9969.32,10724.75,12218.47,15323.00,16948.08,17321.74,20332.05,23160.56,23177.78,24807.70,23497.50,23414.42,23532.57]"
   ]
  },
  {
   "cell_type": "code",
   "execution_count": 19,
   "id": "eb614122-2238-488f-9edd-f5a9fe99dbe2",
   "metadata": {},
   "outputs": [],
   "source": [
    "oS_cbt_1000_CNN_valid_loss_ppl = \\\n",
    "[201.31,  135.56,  124.58,  122.11,  116.91,  115.04,  110.83,  108.67,  109.90,  101.05,  101.37,   99.74,   99.88,   99.50,   99.79,   99.40,   99.47,   99.18,   99.26,   98.96]\n",
    "oS_cbt_1000_CNN_testloss_adolescent_ppl= \\\n",
    "[7069.30, 5749.82, 5400.54, 5476.18, 5625.32, 5601.39, 6979.39, 8467.94, 8320.44, 9854.03,11450.21,12196.41,12764.20,12778.37,13934.02,13907.81,14355.51,14298.20,14326.02,14271.19]\n",
    "oS_cbt_1000_CNN_testloss_adult_ppl= \\\n",
    "[9474.36, 7507.99, 7711.82, 7587.00, 8089.13, 8070.74,10323.99,14202.81,14256.14,19890.74,23331.68,24220.08,26548.08,24118.43,26254.83,24403.05,27652.68,25704.05,26696.64,27161.06]"
   ]
  },
  {
   "cell_type": "code",
   "execution_count": 20,
   "id": "7cd6ff37-adfa-45cf-adb1-021a6dcd3c74",
   "metadata": {},
   "outputs": [],
   "source": [
    "oS_cbt_1000_LSTM_valid_loss_ppl = \\\n",
    "[227.10,  158.24,  136.88,  123.69,  118.60,  112.82,  111.49,  109.01,  106.99,  107.89,  102.77,  102.99,  103.00,  101.71,  102.04,  101.95,  101.79,  101.08,  101.17,  100.77]\n",
    "oS_cbt_1000_LSTM_testloss_adolescent_ppl= \\\n",
    "[6374.20, 5118.78, 5060.22, 4516.90, 5149.66, 5653.29, 5923.48, 5820.10, 5798.23, 7099.80, 8331.97, 8981.97,10323.91,10436.23,10618.77,11042.25,10965.07,11042.51,11023.80,10987.11]\n",
    "oS_cbt_1000_LSTM_testloss_adult_ppl= \\\n",
    "[7340.78, 6342.91, 7367.84, 6813.39, 7335.27, 9487.73, 9888.83, 9535.09, 9769.39,11793.96,16244.46,16679.01,21134.14,21231.33,21968.08,23129.25,23645.38,23602.05,23340.76,22937.38]"
   ]
  },
  {
   "cell_type": "code",
   "execution_count": 21,
   "id": "767ecd46-94d1-48db-a0b5-9bb7c0b0b861",
   "metadata": {},
   "outputs": [],
   "source": [
    "oS_cbt_2000_CNN_valid_loss_ppl = \\\n",
    "[200.29,  156.04,  128.13,  120.55,  116.14,  114.83,  112.19,  110.17,  106.46,  106.82,  101.07,  102.40,   99.13,   99.43,   99.21,   99.27,   98.85,   98.57,   98.70,   98.50]\n",
    "oS_cbt_2000_CNN_testloss_adolescent_ppl= \\\n",
    "[7059.75, 5119.94, 5249.97, 5022.03, 5444.83, 5945.35, 6554.22, 6415.00, 7581.68, 7148.96, 8653.10, 8941.05,10752.26,11381.30,12216.43,12098.88,12410.18,12462.37,12849.01,12939.99]\n",
    "oS_cbt_2000_CNN_testloss_adult_ppl= \\\n",
    "[7701.41, 7003.90, 7932.04, 8249.69, 8641.82,10143.37,10827.77,12306.65,14615.75,13823.06,15444.94,16130.01,20452.16,22570.50,24772.04,23985.41,24278.22,24155.98,24850.81,24761.00]"
   ]
  },
  {
   "cell_type": "code",
   "execution_count": 22,
   "id": "f182aec4-014d-488f-aa6c-d97529d11a36",
   "metadata": {},
   "outputs": [],
   "source": [
    "oS_cbt_2000_LSTM_valid_loss_ppl = \\\n",
    "[226.48,  157.67,  133.83,  121.68,  117.97,  113.24,  112.56,  109.44,  107.69,  113.05,  103.84,  103.36,  106.79,  104.93,  103.91,  102.81,  103.28,  102.55,  102.67,  102.40]\n",
    "oS_cbt_2000_LSTM_testloss_adolescent_ppl= \\\n",
    "[8530.70, 6656.54, 5332.75, 5193.30, 5436.19, 5231.19, 5652.42, 6226.69, 7070.40, 7020.03, 8914.38, 9314.04,10622.79,12302.02,12694.29,13197.88,13475.72,12979.04,13265.60,13025.46]\n",
    "oS_cbt_2000_LSTM_testloss_adult_ppl= \\\n",
    "[8751.83, 8107.01, 6676.55, 7584.21, 8737.22, 9332.15, 8771.78,10081.25,12044.12,12827.95,15166.75,16108.59,19069.71,20716.30,20511.60,21413.48,21535.09,20553.60,21451.20,20611.52]"
   ]
  },
  {
   "cell_type": "code",
   "execution_count": 23,
   "id": "06607f8a-098a-4b98-968d-d6bffecf228f",
   "metadata": {},
   "outputs": [],
   "source": [
    "oS_cbt_5000_CNN_valid_loss_ppl = \\\n",
    "[203.62,  156.16,  125.99,  126.29,  104.66,  104.14,  102.66,  102.33,  102.06,  101.71,  102.26,  100.84,  101.51,  100.84,  100.62,  100.74,  100.38,  100.50,  100.32,  100.38]\n",
    "oS_cbt_5000_CNN_testloss_adolescent_ppl= \\\n",
    "[6832.31, 5351.40, 4970.58, 4892.51, 5454.11, 5687.88, 5585.68, 6592.40, 7401.82, 7325.24, 7707.30, 8960.56, 9763.69, 9762.77,10148.26,10198.99,10265.63,10433.88,10292.39,10284.73]\n",
    "oS_cbt_5000_CNN_testloss_adult_ppl= \\\n",
    "[8092.72, 6133.76, 6480.49, 6498.02, 7040.46, 7763.53, 7509.94, 9057.46,10285.06, 9872.01,10924.25,12298.35,13380.69,13851.70,14399.18,14328.79,14311.61,14657.91,14378.79,14404.47]"
   ]
  },
  {
   "cell_type": "code",
   "execution_count": 24,
   "id": "6e9cfd02-2d0d-4fec-8d69-f37d1de01a13",
   "metadata": {},
   "outputs": [],
   "source": [
    "oS_cbt_5000_LSTM_valid_loss_ppl = \\\n",
    "[223.42,  158.19,  133.58,  121.38,  117.53,  113.00,  111.29,  111.40,  103.48,  104.46,  103.06,  102.72,  103.19,  103.39,  103.21,  103.00,  102.74,  102.55,  102.50,  102.51]\n",
    "oS_cbt_5000_LSTM_testloss_adolescent_ppl= \\\n",
    "[7300.93, 6596.85, 6223.43, 6661.50, 7564.44, 8467.88, 8596.08, 8815.42,10232.16,11159.88,13387.73,13267.84,13766.70,14020.36,14425.97,14879.68,14832.65,14833.78,14993.82,14980.38]\n",
    "oS_cbt_5000_LSTM_testloss_adult_ppl= \\\n",
    "[6688.59, 7315.17, 7426.16, 8366.75,10710.65,10795.55,12870.31,13122.12,15615.55,15411.66,17776.70,18384.66,19923.64,19998.75,21307.40,22189.98,21911.28,21907.21,22097.75,22147.04]"
   ]
  },
  {
   "cell_type": "code",
   "execution_count": 25,
   "id": "58c16289-0945-4fb4-a5ce-8e36f9d8877b",
   "metadata": {},
   "outputs": [],
   "source": [
    "oS_cbt_10000_CNN_valid_loss_ppl = \\\n",
    "[208.66,  157.95,  132.24,  122.62,  120.05,  118.87,  117.26,  114.40,  107.89,  107.79,  107.07,  108.09,  104.90,  106.30,  105.57,  104.19,  105.07,  104.84,  104.35,  103.78]\n",
    "oS_cbt_10000_CNN_testloss_adolescent_ppl= \\\n",
    "[6443.09, 5808.98, 5652.82, 5837.47, 5003.18, 5795.63, 5014.44, 6120.50, 6841.68, 7287.77, 6617.06, 9024.30,10076.28, 9599.90,10017.17,10903.84,10405.18,10149.62,10322.18,10236.79]\n",
    "oS_cbt_10000_CNN_testloss_adult_ppl= \\\n",
    "[7382.87, 7348.66, 7628.52, 8525.24, 7601.50, 9016.89, 7179.88, 9990.89,13171.25,14831.47,12586.31,16724.57,22423.43,16706.28,19268.95,19871.13,20460.67,18366.87,18668.42,18330.12]"
   ]
  },
  {
   "cell_type": "code",
   "execution_count": 26,
   "id": "563ad789-9d69-4a09-8c1a-f9422b42aaab",
   "metadata": {},
   "outputs": [],
   "source": [
    "oS_cbt_10000_LSTM_valid_loss_ppl = \\\n",
    "[187.13,  162.22,  134.78,  119.33,  115.30,  113.92,  112.17,  109.71,  107.94,  109.62,  104.12,  105.61,  103.87,  104.49,  104.69,  104.92,  104.98,  104.40,  104.10,  103.82]\n",
    "oS_cbt_10000_LSTM_testloss_adolescent_ppl= \\\n",
    "[8596.34, 6161.86, 6585.79, 5992.74, 6841.78, 7554.89,10684.28, 9657.26,10947.73,13396.63,17317.74,15326.73,19689.05,18069.27,19743.32,18832.72,19378.74,19132.01,18625.05,18488.11]\n",
    "oS_cbt_10000_LSTM_testloss_adult_ppl= \\\n",
    "[9601.09, 7007.89, 8036.85, 8086.70, 9423.45,10403.39,13815.30,12843.84,13788.49,16645.43,26367.44,20155.63,27024.01,27050.32,29905.14,29562.27,30727.26,30150.79,30002.81,29984.85]"
   ]
  },
  {
   "cell_type": "markdown",
   "id": "829bd73e-e3fa-40b0-b927-100b42493a3b",
   "metadata": {},
   "source": [
    "## Adolescent"
   ]
  },
  {
   "cell_type": "markdown",
   "id": "0ec0cf61-00ac-4c2f-aea2-b0d5174f9c3a",
   "metadata": {
    "tags": []
   },
   "source": [
    "### outputSampleAdolescent\n",
    "### outputFragmentAdolescent"
   ]
  },
  {
   "cell_type": "markdown",
   "id": "f563912d-9801-43f5-a8ea-991727b1b175",
   "metadata": {},
   "source": [
    "### Word Char models"
   ]
  },
  {
   "cell_type": "code",
   "execution_count": null,
   "id": "ea5362a9-bd1b-44f7-a2a1-7fffc8d02c22",
   "metadata": {},
   "outputs": [],
   "source": [
    "# output_sws_00000_chm_None.log"
   ]
  },
  {
   "cell_type": "code",
   "execution_count": null,
   "id": "c7441e58-6e96-4463-80cc-b3209f9f5cca",
   "metadata": {},
   "outputs": [],
   "source": [
    "# tags: oS_adol_0_None"
   ]
  },
  {
   "cell_type": "code",
   "execution_count": 27,
   "id": "f0b692d4-2ca1-4dea-9439-f9e09362bc22",
   "metadata": {},
   "outputs": [],
   "source": [
    "oS_adol_0_None_valid_loss_ppl = \\\n",
    "[1070.57,  633.77,  532.11,  498.89,  484.89,  503.31,  481.87,  502.61,  508.54,  513.44,  516.28,  515.70,  515.71,  517.31,  517.92,  518.04,  518.14,  518.05,  518.10,  518.09,  518.09,  518.09,  518.09,  518.09,  518.09,  518.09,  518.09,  518.09,  518.09,  518.09,  518.09,  518.09,  518.09,  518.09,  518.09,  518.09,  518.09,  518.09,  518.09,  518.09]\n",
    "oS_adol_0_None_testloss_cbt_ppl= \\\n",
    "[4203.12, 2595.86, 4762.03, 2944.06, 3829.51, 5916.63, 5340.40, 5000.06, 6430.15, 6694.92, 6477.31, 6431.70, 6578.32, 6582.02, 6583.28, 6584.03, 6596.50, 6592.07, 6596.78, 6597.07, 6596.75, 6596.79, 6596.79, 6596.95, 6596.97, 6596.95, 6596.93, 6596.92, 6596.92, 6596.92, 6596.92, 6596.92, 6596.91, 6596.91, 6596.92, 6596.91, 6596.91, 6596.92, 6596.92, 6596.92]\n",
    "oS_adol_0_None_testloss_adult_ppl= \\\n",
    "[25559.03,20762.45,75243.21,27617.69,48245.57,54355.78,56012.33,55995.20,55615.70,57418.44,47091.37,48555.73,51610.93,50284.44,49845.66,49667.62,49734.46,49748.02,49796.86,49776.26,49768.41,49766.61,49766.41,49767.75,49767.77,49767.30,49766.99,49766.85,49766.77,49766.75,49766.76,49766.76,49766.76,49766.76,49766.75,49766.76,49766.76,49766.76,49766.76,49766.76]"
   ]
  },
  {
   "cell_type": "code",
   "execution_count": 91,
   "id": "47426213-fa50-4a19-a90e-4a23bad77113",
   "metadata": {},
   "outputs": [],
   "source": [
    "# output_sws_00000_chm_CNN.log"
   ]
  },
  {
   "cell_type": "code",
   "execution_count": 28,
   "id": "a808852b-3ab8-4fc2-ba68-dd5ba4a8fb5c",
   "metadata": {},
   "outputs": [],
   "source": [
    "oS_adol_0_CNN_valid_loss = \\\n",
    "  [6.69, 6.17, 6.06, 6.05, 5.98, 5.97, 6.01, 5.93, 5.93, 5.91, 5.92, 5.91, 5.92, 5.91, 5.91, 5.91, 5.91, 5.91, 5.91, 5.91, 5.91, 5.91, 5.91, 5.91, 5.91, 5.91, 5.91, 5.91, 5.91, 5.91, 5.91, 5.91, 5.91, 5.91, 5.91, 5.91, 5.91, 5.91, 5.91, 5.91]\n",
    "oS_adol_0_CNN_valid_loss_ppl = \\\n",
    "  [800.77,  478.61,  429.37,  425.82,  397.05,  390.62,  409.09,  374.56,  374.98,  370.48,  374.18,  369.59,  371.37,  370.10,  368.26,  369.28,  368.38,  367.96,  368.16,  368.52,  368.89,  369.09,  369.32,  369.41,  369.49,  369.51,  369.52,  369.52,  369.52,  369.52,  369.52,  369.52,  369.52,  369.52,  369.52,  369.52,  369.52,  369.52,  369.52,  369.52]\n",
    "oS_adol_0_CNN_testloss_cbt_ppl = \\\n",
    "  [1518.72, 2143.45, 1901.15, 2507.65, 2300.65, 2297.01, 3214.72, 3497.09, 3563.00, 3893.31, 3662.80, 3339.04, 3398.01, 3264.17, 3241.32, 2992.67, 3057.01, 3054.62, 2973.92, 3060.39, 3063.62, 3092.78, 3108.37, 3114.45, 3119.61, 3121.07, 3121.49, 3122.00, 3122.07, 3122.07, 3122.08, 3122.08, 3122.07, 3122.07, 3122.06, 3122.06, 3122.06, 3122.06, 3122.06, 3122.06]\n",
    "oS_adol_0_CNN_testloss_adult_ppl = \\\n",
    "  [5064.48,11733.39,10801.80,17565.14,17019.21,11018.55,25999.42,20400.16,21498.07,25445.14,25612.54,21497.18,19697.12,20206.44,19586.84,18990.50,19118.64,19495.76,18550.21,19396.26,19334.62,19487.46,19581.08,19606.10,19629.64,19637.16,19641.13,19644.81,19645.26,19645.41,19645.27,19645.22,19645.14,19645.10,19645.09,19645.08,19645.08,19645.08,19645.08,19645.08]"
   ]
  },
  {
   "cell_type": "code",
   "execution_count": 32,
   "id": "71fbab4a-b36a-4fd3-87f8-9a43a89caa37",
   "metadata": {},
   "outputs": [],
   "source": [
    "x_ticker = np.arange(1, 41).tolist()"
   ]
  },
  {
   "cell_type": "code",
   "execution_count": 33,
   "id": "af58d537-b7d2-468d-855b-2b7948b2c0e1",
   "metadata": {},
   "outputs": [
    {
     "data": {
      "image/png": "[encoded data removed]",
      "text/plain": [
       "<Figure size 432x288 with 1 Axes>"
      ]
     },
     "metadata": {
      "needs_background": "light"
     },
     "output_type": "display_data"
    }
   ],
   "source": [
    "plt.plot(x_ticker, oS_adol_0_CNN_valid_loss_ppl)\n",
    "# plt.plot(test_loss_cbt_valid_ppl)\n",
    "# plt.plot(test_loss_adult_test_ppl)\n",
    "plt.title(\"Training validation loss PPL (adolescent) chm CNN\")\n",
    "plt.xlabel('epoch')\n",
    "plt.ylabel('PPL')\n",
    "plt.show()"
   ]
  },
  {
   "cell_type": "code",
   "execution_count": 99,
   "id": "10700d85-11a9-41b1-aa14-698405782d80",
   "metadata": {},
   "outputs": [],
   "source": [
    "# output_sws_00000_chm_LSTM.log"
   ]
  },
  {
   "cell_type": "code",
   "execution_count": 34,
   "id": "7ddbcba0-866c-4cd3-b1cc-edf75d9c9f58",
   "metadata": {},
   "outputs": [],
   "source": [
    "oS_adol_0_LSTM_valid_loss_ppl = \\\n",
    "  [860.85,  524.10,  443.90,  412.60,  406.95,  404.30,  408.11,  387.08,  391.86,  381.66,  386.49,  382.97,  383.10,  381.58,  382.68,  381.92,  382.49,  383.07,  383.31,  383.60,  383.74,  383.78,  383.79,  383.81,  383.82,  383.82,  383.82,  383.82,  383.82,  383.82,  383.82,  383.82,  383.82,  383.82,  383.82,  383.82,  383.82,  383.82,  383.82,  383.82]\n",
    "oS_adol_0_LSTM_testloss_cbt_ppl = \\\n",
    "  [2433.54, 3093.23, 4253.31, 5385.40, 2479.09, 2742.18, 4498.12, 3750.25, 3335.88, 2913.64, 2870.06, 2146.32, 2201.94, 2106.45, 2095.72, 2106.00, 2113.38, 2114.28, 2123.86, 2127.32, 2126.36, 2125.72, 2125.89, 2126.29, 2126.42, 2126.51, 2126.52, 2126.56, 2126.56, 2126.55, 2126.55, 2126.55, 2126.55, 2126.55, 2126.55, 2126.55, 2126.55, 2126.55, 2126.55, 2126.55]\n",
    "oS_adol_0_LSTM_testloss_adult_ppl = \\\n",
    "  [8106.55,22467.17,48983.65,42619.53,13409.02, 8530.83,17235.45,18152.63,12663.90, 9774.58,10456.52, 8839.97, 8857.10, 8703.16, 8689.93, 8807.06, 8898.04, 8859.94, 8919.93, 8933.64, 8926.62, 8920.14, 8915.42, 8916.35, 8914.62, 8914.51, 8914.19, 8914.35, 8914.28, 8914.22, 8914.21, 8914.21, 8914.20, 8914.20, 8914.20, 8914.20, 8914.20, 8914.20, 8914.20, 8914.20]"
   ]
  },
  {
   "cell_type": "code",
   "execution_count": 35,
   "id": "429976cd-854e-4aad-8289-d2a437d4d029",
   "metadata": {},
   "outputs": [
    {
     "data": {
      "image/png": "[encoded data removed]",
      "text/plain": [
       "<Figure size 432x288 with 1 Axes>"
      ]
     },
     "metadata": {
      "needs_background": "light"
     },
     "output_type": "display_data"
    }
   ],
   "source": [
    "plt.plot(x_ticker, oS_adol_0_LSTM_valid_loss_ppl)\n",
    "\n",
    "plt.title(\"Training validation loss PPL (adolescent) chm LSTM\")\n",
    "plt.xlabel('epoch')\n",
    "plt.ylabel('PPL')\n",
    "plt.show()"
   ]
  },
  {
   "cell_type": "code",
   "execution_count": 36,
   "id": "cf334fcf-8751-4c54-8d13-4901b974bb56",
   "metadata": {},
   "outputs": [],
   "source": [
    "# LSTM perform better than CNN for adult test"
   ]
  },
  {
   "cell_type": "code",
   "execution_count": 37,
   "id": "79c66437-c0c9-4b4a-9a1f-2be7b4bf2f80",
   "metadata": {},
   "outputs": [],
   "source": [
    "# outputFragmentAdolescent"
   ]
  },
  {
   "cell_type": "code",
   "execution_count": 38,
   "id": "fd89d409-d687-458c-9160-32730a40ab41",
   "metadata": {},
   "outputs": [],
   "source": [
    "# output_sws_00200_chm_None.log - output_sws_10000_chm_None.log"
   ]
  },
  {
   "cell_type": "code",
   "execution_count": 39,
   "id": "6b6f3ed6-49a2-4379-b2ca-95ff2534bda5",
   "metadata": {},
   "outputs": [],
   "source": [
    "# tages: oS_adol_200_CNN, oS_adol_500_LSTM"
   ]
  },
  {
   "cell_type": "code",
   "execution_count": 40,
   "id": "c980f1bd-84e9-428e-acb5-23805f14ba96",
   "metadata": {},
   "outputs": [],
   "source": [
    "oS_adol_200_CNN_valid_loss_ppl = \\\n",
    "[851.75,  499.30,  429.85,  411.58,  413.90,  360.79,  361.61,  350.25,  351.83,  349.00,  348.35,  349.52,  349.27,  348.15,  348.91,  348.66,  348.97,  349.35,  349.81,  350.03]\n",
    "oS_adol_200_CNN_testloss_cbt_ppl= \\\n",
    "[1454.35, 3189.37, 1882.98, 3702.25, 5668.63, 3553.98, 5127.31, 2822.95, 3178.50, 2508.92, 2171.77, 2108.31, 1732.92, 1713.06, 1754.98, 1704.64, 1683.04, 1687.58, 1678.15, 1678.18]\n",
    "oS_adol_200_CNN_testloss_adult_ppl= \\\n",
    "[4039.95,23095.95,10593.75,15140.77,54344.33, 8292.62, 9371.50, 5386.68, 5889.52, 5298.26, 5307.48, 5167.44, 4675.67, 4684.09, 4831.34, 4702.39, 4671.97, 4684.94, 4663.40, 4649.89]"
   ]
  },
  {
   "cell_type": "code",
   "execution_count": 41,
   "id": "07bce555-3a84-4129-91f0-d6170d7a1360",
   "metadata": {},
   "outputs": [],
   "source": [
    "oS_adol_200_LSTM_valid_loss_ppl = \\\n",
    "[951.68,  550.88,  428.86,  411.17,  400.19,  400.53,  378.19,  377.87,  377.38,  389.10,  381.98,  378.03,  379.18,  376.97,  377.88,  377.04,  378.05,  378.15,  378.22,  378.68]\n",
    "oS_adol_200_LSTM_testloss_cbt_ppl= \\\n",
    "[3155.22, 3225.98, 1654.34, 3239.78, 2606.43, 2407.76, 2732.54, 2611.05, 2251.70, 3143.00, 3253.31, 3243.91, 3220.54, 3268.69, 3143.22, 3278.09, 3248.68, 3271.64, 3270.83, 3275.04]\n",
    "oS_adol_200_LSTM_testloss_adult_ppl= \\\n",
    "[12699.91,30423.03, 9044.83,29943.27, 9584.24, 7703.14, 6596.77, 6680.22, 6032.56, 8631.20, 6091.62, 5975.15, 6267.55, 6459.36, 6297.44, 6626.47, 6509.00, 6545.11, 6541.51, 6533.70]"
   ]
  },
  {
   "cell_type": "code",
   "execution_count": 42,
   "id": "a0a1e2a3-2d96-4f4f-8d77-e2c2cdac2c5b",
   "metadata": {},
   "outputs": [],
   "source": [
    "oS_adol_500_CNN_valid_loss_ppl = \\\n",
    "[729.70,  517.47,  427.71,  406.27,  409.47,  363.15,  363.09,  365.66,  359.82,  361.86,  358.99,  358.85,  361.10,  358.14,  359.04,  360.49,  359.95,  359.38,  359.08,  359.28]\n",
    "oS_adol_500_CNN_testloss_cbt_ppl= \\\n",
    "[2522.94, 5163.77, 2786.37, 3266.93, 2608.35, 2543.75, 2322.47, 2028.34, 2171.38, 2157.83, 2107.41, 2086.81, 2360.66, 2085.89, 2072.46, 2093.97, 2042.10, 2031.34, 2020.45, 2010.40]\n",
    "oS_adol_500_CNN_testloss_adult_ppl= \\\n",
    "[13344.09,46020.98,13008.42,10006.18, 5224.07, 5963.61, 6370.77, 5287.30, 5122.82, 4743.50, 4637.17, 4625.72, 4630.29, 4280.45, 4137.75, 4318.61, 4309.97, 4344.94, 4344.79, 4329.00]"
   ]
  },
  {
   "cell_type": "code",
   "execution_count": 43,
   "id": "4b6cc831-91cc-4200-a00a-b8cdb7dc6637",
   "metadata": {},
   "outputs": [],
   "source": [
    "oS_adol_500_LSTM_valid_loss_ppl = \\\n",
    "[996.22,  526.44,  451.33,  415.72,  404.82,  405.94,  377.63,  386.74,  380.00,  369.80,  373.67,  371.54,  370.27,  368.84,  368.65,  368.53,  369.24,  369.25,  369.81,  370.05]\n",
    "oS_adol_500_LSTM_testloss_cbt_ppl= \\\n",
    "[1529.15, 3742.23, 2156.09, 3547.45, 2755.71, 3039.95, 2252.41, 2316.54, 2012.94, 1754.97, 1743.15, 1705.27, 1688.23, 1666.45, 1654.79, 1659.79, 1638.24, 1646.23, 1634.76, 1631.56]\n",
    "oS_adol_500_LSTM_testloss_adult_ppl= \\\n",
    "[4215.49,51124.97,13997.25,14096.19,20721.15,14641.73,14767.20,12696.47,13793.15, 9960.89, 8308.41, 7453.53, 7467.91, 7261.05, 7115.24, 7133.53, 7079.41, 6971.74, 6871.35, 6823.73]"
   ]
  },
  {
   "cell_type": "code",
   "execution_count": 44,
   "id": "63531623-ace2-453b-8e9a-a5be59fa73c0",
   "metadata": {},
   "outputs": [],
   "source": [
    "oS_adol_1000_CNN_valid_loss_ppl = \\\n",
    "[783.39,  512.67,  564.98,  379.67,  372.50,  361.65,  363.26,  353.00,  351.72,  355.67,  349.80,  351.26,  349.54,  350.16,  349.61,  348.79,  349.11,  349.05,  348.71,  348.64]\n",
    "oS_adol_1000_CNN_testloss_cbt_ppl= \\\n",
    "[2323.45, 4662.75, 1952.12, 4171.16, 4674.96, 2989.70, 3340.35, 3110.84, 3017.60, 3259.54, 3218.50, 3086.32, 3242.09, 3259.57, 3115.74, 3096.35, 3164.75, 3143.19, 3063.08, 3055.15]\n",
    "oS_adol_1000_CNN_testloss_adult_ppl= \\\n",
    "[5960.04,26177.03,10001.23,31024.16,28844.76,14821.27,17672.43,12021.07,11383.32,11836.83,10664.46, 9354.05, 9721.37, 9706.92, 9405.86, 9437.31, 9662.11, 9567.13, 9188.52, 9163.74]"
   ]
  },
  {
   "cell_type": "code",
   "execution_count": 45,
   "id": "bbc20e61-2003-4c52-a6b6-fb82d213b906",
   "metadata": {},
   "outputs": [],
   "source": [
    "oS_adol_1000_LSTM_valid_loss_ppl = \\\n",
    "[992.95,  516.84,  435.05,  409.97,  427.60,  373.55,  375.58,  368.81,  370.70,  369.87,  368.03,  370.05,  369.45,  367.95,  368.07,  367.41,  367.77,  367.64,  368.24,  368.25]\n",
    "oS_adol_1000_LSTM_testloss_cbt_ppl= \\\n",
    "[1448.16, 3044.58, 1882.57, 1418.26, 1435.87, 1301.98, 1392.65, 1292.97, 1275.58, 1274.99, 1215.44, 1238.21, 1205.71, 1189.12, 1191.81, 1177.12, 1173.12, 1169.02, 1167.46, 1167.37]\n",
    "oS_adol_1000_LSTM_testloss_adult_ppl= \\\n",
    "[4263.56,16551.98, 6915.47, 4952.27, 4272.31, 4245.91, 5005.27, 4947.47, 4745.61, 4953.99, 4848.24, 5102.14, 4985.96, 4941.23, 4927.10, 4857.59, 4850.81, 4827.31, 4818.01, 4817.19]"
   ]
  },
  {
   "cell_type": "code",
   "execution_count": 46,
   "id": "2b36b9e6-ceba-4561-988f-4ab2401e3dfb",
   "metadata": {},
   "outputs": [],
   "source": [
    "oS_adol_2000_CNN_valid_loss_ppl = \\\n",
    "[905.83,  493.60,  465.77,  407.62,  391.68,  400.22,  364.52,  371.37,  362.30,  362.72,  362.27,  362.23,  363.90,  364.26,  363.44,  363.12,  362.87,  363.25,  363.65,  363.82]\n",
    "oS_adol_2000_CNN_testloss_cbt_ppl= \\\n",
    "[1461.30, 2514.56, 1926.39, 3963.11, 4637.84, 5530.11, 8649.20,11746.44,16417.00,18801.45,24506.78,27043.83,26404.55,27175.15,30731.50,30716.03,30036.93,30109.68,30283.81,30341.75]\n",
    "oS_adol_2000_CNN_testloss_adult_ppl= \\\n",
    "[4481.12,15514.71, 9690.06,55158.85,30467.00,46031.88,58702.46,72664.69,76044.20,154062.30,125058.03,89901.62,108437.62,76674.95,70279.07,65094.85,55515.87,53506.91,55857.73,56206.35]"
   ]
  },
  {
   "cell_type": "code",
   "execution_count": 47,
   "id": "390b4572-5267-4875-9649-62661770eddd",
   "metadata": {},
   "outputs": [],
   "source": [
    "oS_adol_2000_LSTM_valid_loss_ppl = \\\n",
    "[1046.10,  523.40,  439.56,  404.10,  395.75,  398.75,  376.36,  382.05,  372.48,  375.68,  376.58,  377.02,  377.02,  377.04,  377.31,  377.40,  377.79,  378.19,  378.25,  378.26]\n",
    "oS_adol_2000_LSTM_testloss_cbt_ppl= \\\n",
    "[1547.18, 1551.67, 1832.20, 1825.52, 2083.87, 1293.01, 1668.74, 1603.47, 1584.98, 1607.21, 1591.57, 1624.50, 1619.02, 1622.10, 1601.98, 1602.49, 1605.40, 1611.21, 1610.52, 1610.78]\n",
    "oS_adol_2000_LSTM_testloss_adult_ppl= \\\n",
    "[4126.02, 5088.73, 6748.38, 5882.66, 6173.76, 3847.25, 5669.53, 7454.55, 5766.25, 5499.02, 5713.07, 5930.50, 6034.54, 6133.22, 6177.60, 6169.39, 6173.89, 6206.79, 6200.62, 6198.49]"
   ]
  },
  {
   "cell_type": "code",
   "execution_count": 48,
   "id": "c8a85aa0-626e-4080-aa56-a64fa722d9dc",
   "metadata": {},
   "outputs": [],
   "source": [
    "oS_adol_5000_CNN_valid_loss_ppl = \\\n",
    "[768.10,  490.00,  438.45,  413.16,  393.94,  405.38,  377.48,  379.57,  373.98,  374.08,  371.20,  373.89,  372.02,  371.84,  372.33,  372.41,  372.62,  373.02,  373.25,  373.42]\n",
    "oS_adol_5000_CNN_testloss_cbt_ppl= \\\n",
    "[1800.95, 3225.34, 2716.18, 2301.99, 3282.12, 3174.99, 2546.89, 2490.71, 2572.93, 2864.51, 2663.99, 2480.67, 2576.78, 2732.91, 2753.09, 2736.75, 2746.33, 2761.23, 2771.33, 2780.28]\n",
    "oS_adol_5000_CNN_testloss_adult_ppl= \\\n",
    "[5723.69,19036.25,15950.57, 9758.62,15550.77,13229.08, 6684.81, 4726.80, 4248.27, 5067.73, 4808.30, 4725.12, 4558.50, 4626.73, 4732.51, 4819.76, 4876.07, 4887.91, 4903.03, 4917.64]"
   ]
  },
  {
   "cell_type": "code",
   "execution_count": 49,
   "id": "a6ce4541-cb01-4498-af8b-9a10e48a407e",
   "metadata": {},
   "outputs": [],
   "source": [
    "oS_adol_5000_LSTM_valid_loss_ppl = \\\n",
    "[858.71,  520.32,  437.30,  428.80,  425.84,  428.31,  396.57,  402.63,  388.94,  398.03,  393.17,  392.78,  393.90,  393.48,  393.44,  393.44,  393.85,  394.19,  394.32,  394.30]\n",
    "oS_adol_5000_LSTM_testloss_cbt_ppl= \\\n",
    "[2599.77, 1798.14, 2523.17, 2500.21, 1518.06, 1707.62, 1658.11, 1693.48, 1500.18, 1529.35, 1352.52, 1345.01, 1334.24, 1336.89, 1320.04, 1330.27, 1331.77, 1337.70, 1338.56, 1338.78]\n",
    "oS_adol_5000_LSTM_testloss_adult_ppl= \\\n",
    "[9781.06,10060.92, 8835.86,11318.95, 6798.75, 7329.25, 8538.16, 9219.52, 8353.37, 9514.98, 7899.13, 8435.63, 8598.90, 8533.70, 8365.53, 8527.83, 8569.08, 8641.20, 8638.45, 8639.77]"
   ]
  },
  {
   "cell_type": "code",
   "execution_count": 50,
   "id": "17918a44-ba50-45d3-ad11-922065952aca",
   "metadata": {},
   "outputs": [],
   "source": [
    "oS_adol_10000_CNN_valid_loss_ppl = \\\n",
    "[784.63,  512.82,  456.33,  415.78,  411.56,  414.53,  381.74,  381.27,  388.77,  382.98,  378.07,  379.93,  380.59,  380.68,  379.90,  379.42,  380.63,  380.62,  381.02,  381.20]\n",
    "oS_adol_10000_CNN_testloss_cbt_ppl= \\\n",
    "[2035.27, 2046.30, 2929.01, 3280.40, 2492.41, 3574.45, 3577.24, 3349.61, 3047.74, 3493.10, 3097.42, 3160.84, 2985.46, 2949.81, 2924.21, 2870.75, 2948.29, 2950.93, 2978.91, 2981.13]\n",
    "oS_adol_10000_CNN_testloss_adult_ppl= \\\n",
    "[6680.31,10601.20,20476.56,20025.26,10598.32,11516.06,10027.22,10805.48, 7746.89, 8232.55, 8504.26, 8143.64, 6852.29, 7463.32, 7504.86, 7278.77, 7539.11, 7505.16, 7564.00, 7582.72]"
   ]
  },
  {
   "cell_type": "code",
   "execution_count": 51,
   "id": "d9ffe26e-b5dd-4483-a499-e2253f17fa42",
   "metadata": {},
   "outputs": [],
   "source": [
    "oS_adol_10000_LSTM_valid_loss_ppl = \\\n",
    "[863.80,  532.90,  443.51,  417.96,  407.78,  420.25,  387.12,  387.85,  391.87,  388.52,  386.73,  387.98,  386.72,  388.01,  386.77,  387.02,  387.64,  388.14,  388.05,  388.08]\n",
    "oS_adol_10000_LSTM_testloss_cbt_ppl= \\\n",
    "[2644.82, 2628.63, 2305.70, 2520.85, 2731.38, 2184.52, 3821.12, 3921.10, 4226.50, 4008.95, 3743.96, 3735.46, 3636.52, 3648.75, 3624.77, 3581.44, 3626.06, 3634.38, 3635.07, 3631.46]\n",
    "oS_adol_10000_LSTM_testloss_adult_ppl= \\\n",
    "[10916.57,16337.05,17531.71,12650.16,14731.26, 9731.24,27759.22,29095.97,29724.66,30859.58,28661.74,28960.19,28318.51,28473.13,27898.68,27198.73,27748.51,27784.01,27730.72,27687.88]"
   ]
  },
  {
   "cell_type": "markdown",
   "id": "1a6f777e-771f-40a6-986d-458224e840ee",
   "metadata": {},
   "source": [
    "## CbtAdolescent"
   ]
  },
  {
   "cell_type": "markdown",
   "id": "f98283b9-cffb-4a15-a3b1-7b28999ccda6",
   "metadata": {},
   "source": [
    "### outputSampleCbtAdolescent\n",
    "### outputFragmentCbtAdolescent"
   ]
  },
  {
   "cell_type": "code",
   "execution_count": 52,
   "id": "d4f57cfc-370c-403e-b723-fc50bdc93a35",
   "metadata": {},
   "outputs": [],
   "source": [
    "# output_sws_00000_chm_None.log"
   ]
  },
  {
   "cell_type": "code",
   "execution_count": 53,
   "id": "ec3021cc-fdaf-4d8f-a265-a02f62e392bf",
   "metadata": {},
   "outputs": [],
   "source": [
    "# tags: oS_cbtadol_0_None"
   ]
  },
  {
   "cell_type": "code",
   "execution_count": 54,
   "id": "10387db8-58b2-40a6-93cb-393907ad81aa",
   "metadata": {},
   "outputs": [],
   "source": [
    "oS_cbtadol_0_None_valid_loss_ppl = \\\n",
    "[331.73,  271.58,  227.99,  220.62,  215.97,  215.28,  217.20,  206.15,  208.58,  208.15,  207.57,  208.61,  207.90,  206.73,  205.73,  205.72,  205.78,  205.74,  205.44,  205.35,  205.38,  205.25,  205.27,  205.28,  205.22,  205.18,  205.14,  205.14,  205.15,  205.15,  205.15,  205.15,  205.14,  205.14,  205.14,  205.14,  205.14,  205.14,  205.14,  205.14]\n",
    "oS_cbtadol_0_None_testloss_adult_ppl= \\\n",
    "[4796.13, 5033.98, 5198.51, 5593.89, 7191.22, 7665.07, 7394.20, 9106.85, 8994.32,10210.84,10167.83,10662.70,10495.70,10381.68,10347.46,10363.22,10392.15,10364.51,10338.93,10321.91,10342.37,10340.87,10340.53,10344.01,10340.05,10337.73,10337.97,10342.32,10342.83,10342.81,10340.86,10340.85,10340.50,10340.29,10340.26,10340.25,10340.27,10340.28,10340.29,10340.29]\n",
    "oS_cbtadol_0_None_testloss_adolescent_ppl= \\\n",
    "[663.10,  626.91,  442.81,  438.53,  431.12,  436.94,  452.96,  428.78,  438.07,  448.92,  452.98,  461.69,  461.50,  458.68,  455.49,  455.84,  456.13,  456.23,  455.05,  454.88,  454.96,  454.46,  454.54,  454.60,  454.39,  454.22,  454.05,  454.04,  454.11,  454.13,  454.11,  454.11,  454.10,  454.09,  454.09,  454.09,  454.09,  454.09,  454.09,  454.09]\n",
    "oS_cbtadol_0_None_testloss_cbt_ppl= \\\n",
    "[168.90,  133.30,  119.75,  113.21,  110.45,  108.27,  106.53,  101.22,  101.31,   98.61,   97.25,   96.38,   95.74,   95.25,   94.99,   94.90,   94.90,   94.84,   94.82,   94.77,   94.77,   94.76,   94.76,   94.76,   94.75,   94.75,   94.75,   94.74,   94.74,   94.74,   94.74,   94.74,   94.74,   94.74,   94.74,   94.74,   94.74,   94.74,   94.74,   94.74]"
   ]
  },
  {
   "cell_type": "code",
   "execution_count": 55,
   "id": "290fb718-f4c2-48a4-8ef6-d5d57491ee80",
   "metadata": {},
   "outputs": [],
   "source": [
    "# output_sws_00000_chm_CNN.log"
   ]
  },
  {
   "cell_type": "code",
   "execution_count": 56,
   "id": "6336db24-651a-427b-a39e-cd99e9263aaa",
   "metadata": {},
   "outputs": [],
   "source": [
    "# tags: oS_cbtadol_0_CNN"
   ]
  },
  {
   "cell_type": "code",
   "execution_count": 57,
   "id": "3e9028ab-70a7-4342-bdaf-cf43c5db6c9f",
   "metadata": {},
   "outputs": [],
   "source": [
    "oS_cbtadol_0_CNN_valid_loss_ppl = \\\n",
    "[311.35,  243.51,  221.90,  207.60,  199.81,  197.94,  198.49,  181.80,  180.90,  181.81,  177.36,  177.16,  178.15,  175.89,  176.13,  175.94,  174.97,  175.29,  174.93,  174.92,  174.63,  174.80,  174.41,  174.45,  174.06,  174.07,  174.00,  173.93,  174.00,  174.01,  174.00,  173.98,  173.92,  173.91,  173.91,  173.90,  173.88,  173.89,  173.88,  173.88]\n",
    "oS_cbtadol_0_CNN_testloss_adult_ppl= \\\n",
    "[4234.77,17868.86, 5374.75, 9574.19, 3630.38,10381.47, 4233.03, 4571.52, 4771.32, 6988.88, 5388.35, 5298.88, 5789.26, 5336.29, 5263.85, 5321.65, 5196.88, 5231.15, 5097.21, 5079.55, 5107.61, 5045.93, 4933.02, 4973.42, 4929.77, 4917.77, 4887.25, 4887.71, 4891.90, 4874.12, 4864.73, 4866.93, 4870.99, 4869.67, 4864.83, 4868.33, 4867.78, 4867.21, 4867.18, 4866.99]\n",
    "oS_cbtadol_0_CNN_testloss_adolescent_ppl= \\\n",
    "[567.86,  439.04,  405.72,  378.08,  366.88,  369.90,  379.62,  343.11,  342.93,  347.76,  340.09,  338.18,  346.01,  341.10,  343.22,  344.04,  342.39,  343.48,  343.00,  343.29,  342.32,  342.87,  342.13,  342.17,  341.05,  341.12,  340.90,  340.68,  340.94,  340.95,  340.95,  340.88,  340.66,  340.63,  340.64,  340.61,  340.54,  340.57,  340.55,  340.53]\n",
    "oS_cbtadol_0_CNN_testloss_cbt_ppl= \\\n",
    "[173.86,  138.33,  123.53,  116.07,  110.95,  108.33,  106.70,   98.28,   97.30,   96.95,   94.24,   94.27,   93.52,   92.53,   92.22,   91.80,   91.26,   91.28,   91.04,   90.95,   90.92,   90.94,   90.74,   90.76,   90.65,   90.63,   90.61,   90.60,   90.60,   90.61,   90.60,   90.59,   90.59,   90.59,   90.59,   90.58,   90.58,   90.58,   90.58,   90.58]"
   ]
  },
  {
   "cell_type": "code",
   "execution_count": 58,
   "id": "e45f9487-adee-48dc-bcb7-b6ebbd35b011",
   "metadata": {},
   "outputs": [],
   "source": [
    "# output_sws_00000_chm_LSTM.log"
   ]
  },
  {
   "cell_type": "code",
   "execution_count": 59,
   "id": "d38219ad-a320-4494-a840-6447dee2f74a",
   "metadata": {},
   "outputs": [],
   "source": [
    "# tags: oS_cbtadol_0_LSTM"
   ]
  },
  {
   "cell_type": "code",
   "execution_count": null,
   "id": "2ddbabbd-98b5-4310-bb14-70eb953ea5a9",
   "metadata": {},
   "outputs": [],
   "source": [
    "oS_cbtadol_0_LSTM_valid_loss_ppl = \\\n",
    "[312.44,  235.46,  212.85,  201.11,  203.26,  183.70,  181.40,  180.93,  180.43,  184.14,  179.31,  178.72,  179.16,  177.81,  177.53,  179.76,  177.91,  177.36,  177.94,  177.22,  177.17,  177.24,  177.25,  177.02,  177.04,  176.99,  176.97,  176.90,  176.90,  176.90,  176.98,  176.95,  176.89,  176.86,  176.85,  176.86,  176.83,  176.82,  176.83,  176.83]\n",
    "oS_cbtadol_0_LSTM_testloss_adult_ppl= \\\n",
    "[4077.62, 3660.23, 3590.48, 3369.25, 3714.88, 3706.18, 3712.90, 3908.91, 3842.63, 3962.58, 4462.85, 4492.31, 4465.62, 4687.40, 4620.79, 4762.85, 4897.26, 4953.36, 4958.34, 4940.40, 4933.40, 4942.46, 4937.56, 4929.24, 4919.93, 4915.06, 4920.09, 4922.20, 4917.62, 4923.65, 4922.32, 4924.33, 4922.89, 4919.51, 4919.81, 4921.05, 4921.21, 4920.23, 4920.61, 4920.35]\n",
    "oS_cbtadol_0_LSTM_testloss_adolescent_ppl= \\\n",
    "[585.82,  417.95,  386.14,  364.00,  382.61,  338.75,  331.74,  332.93,  333.07,  344.38,  338.37,  338.22,  340.16,  340.73,  339.90,  348.62,  344.01,  343.43,  346.43,  344.32,  344.30,  344.47,  344.85,  344.29,  344.33,  344.30,  344.26,  344.01,  344.04,  344.08,  344.43,  344.34,  344.12,  344.03,  344.02,  344.04,  343.95,  343.90,  343.95,  343.95]\n",
    "oS_cbtadol_0_LSTM_testloss_cbt_ppl= \\\n",
    "[169.67,  134.98,  119.44,  113.04,  110.03,  101.62,  100.91,  100.09,   99.49,  100.23,   96.91,   96.26,   96.14,   94.66,   94.61,   94.57,   93.88,   93.47,   93.29,   93.08,   93.05,   93.09,   92.98,   92.89,   92.90,   92.85,   92.84,   92.84,   92.83,   92.81,   92.80,   92.79,   92.78,   92.78,   92.77,   92.77,   92.77,   92.77,   92.77,   92.76]"
   ]
  },
  {
   "cell_type": "code",
   "execution_count": null,
   "id": "6c8a8866-8bb8-4842-897a-ac3defce2757",
   "metadata": {},
   "outputs": [],
   "source": []
  },
  {
   "cell_type": "code",
   "execution_count": 37,
   "id": "be9d2079-9cb0-40b5-b6eb-176cdcfdc6d1",
   "metadata": {},
   "outputs": [],
   "source": [
    "# outputFragmentCbtAdolescent"
   ]
  },
  {
   "cell_type": "code",
   "execution_count": 38,
   "id": "7f5c7c6b-9408-44e7-94f9-c214417b0d65",
   "metadata": {},
   "outputs": [],
   "source": [
    "# output_sws_00200_chm_None.log - output_sws_10000_chm_None.log"
   ]
  },
  {
   "cell_type": "code",
   "execution_count": 39,
   "id": "f19b6a57-565c-47ed-ac5d-dab1d83fd8c6",
   "metadata": {},
   "outputs": [],
   "source": [
    "# tages: oS_cbtadol_200_CNN, oS_cbtadol_500_LSTM"
   ]
  },
  {
   "cell_type": "code",
   "execution_count": 40,
   "id": "de2ec5e5-0023-4170-a8c2-8ce65f45b193",
   "metadata": {},
   "outputs": [],
   "source": [
    "oS_cbtadol_200_CNN_valid_loss_ppl = \\\n",
    "[301.09,  242.26,  222.70,  207.80,  203.26,  201.19,  197.05,  196.84,  200.90,  182.74,  182.53,  185.18,  180.08,  180.83,  179.32,  179.24,  179.68,  179.28,  178.43,  178.53]\n",
    "oS_cbtadol_200_CNN_testloss_adult_ppl= \\\n",
    "[5760.26, 5128.36,19101.98, 4941.28,21011.21,42822.30, 8665.81, 9121.04, 5679.51, 4454.98,10849.68, 5735.14,14376.33,10030.46, 8939.70, 6374.54,44233.80,16995.53,29212.32,26900.52]\n",
    "oS_cbtadol_200_CNN_testloss_adolescent_ppl= \\\n",
    "[531.17,  437.32,  416.96,  374.59,  367.93,  369.51,  367.55,  369.85,  384.51,  343.58,  343.81,  351.83,  346.37,  348.08,  348.29,  349.19,  350.73,  352.35,  351.01,  351.07]\n",
    "oS_cbtadol_200_CNN_testloss_cbt_ppl= \\\n",
    "[171.78,  137.03,  123.49,  117.37,  113.54,  112.02,  107.68,  106.94,  106.98,   99.01,   98.93,   99.49,   95.53,   95.79,   94.18,   93.83,   94.05,   93.22,   92.79,   92.80]\n"
   ]
  },
  {
   "cell_type": "code",
   "execution_count": 41,
   "id": "b411c72a-8677-42cd-a400-6d2f502caca0",
   "metadata": {},
   "outputs": [],
   "source": [
    "oS_cbtadol_200_LSTM_valid_loss_ppl = \\\n",
    "[328.51,  238.70,  216.31,  202.86,  197.83,  195.44,  196.51,  180.32,  180.00,  183.72,  177.72,  177.54,  178.52,  177.29,  177.21,  178.11,  177.90,  177.80,  177.10,  176.80]\n",
    "oS_cbtadol_200_LSTM_testloss_adult_ppl= \\\n",
    "[4002.29, 3614.85, 3453.57, 3390.59, 3520.58, 3637.67, 4012.55, 3694.66, 3984.93, 4088.06, 4339.82, 4373.99, 4634.35, 4709.61, 4703.37, 4891.29, 4925.24, 4965.37, 4939.24, 4946.60]\n",
    "oS_cbtadol_200_LSTM_testloss_adolescent_ppl= \\\n",
    "[669.14,  430.36,  391.93,  365.86,  355.71,  364.23,  362.73,  334.87,  337.19,  347.84,  336.80,  337.97,  339.49,  340.48,  341.94,  344.45,  346.35,  346.96,  345.14,  344.96]\n",
    "oS_cbtadol_200_LSTM_testloss_cbt_ppl= \\\n",
    "[174.56,  134.66,  121.48,  114.49,  111.57,  106.81,  108.23,   99.12,   98.06,   99.59,   96.21,   95.09,   95.97,   94.12,   93.66,   93.90,   93.21,   93.03,   92.62,   92.43]"
   ]
  },
  {
   "cell_type": "code",
   "execution_count": 42,
   "id": "aee4d2a8-4003-494c-b2b4-cf0da341e08e",
   "metadata": {},
   "outputs": [],
   "source": [
    "oS_cbtadol_500_CNN_valid_loss_ppl = \\\n",
    "[306.57,  247.52,  221.83,  216.15,  210.49,  198.37,  201.31,  180.63,  179.48,  178.18,  179.86,  174.52,  174.74,  172.79,  172.67,  173.05,  172.65,  172.18,  172.58,  172.29]\n",
    "oS_cbtadol_500_CNN_testloss_adult_ppl= \\\n",
    "[7252.38, 3996.75, 4221.02, 4173.73, 3921.43, 4268.63, 4394.91, 4371.38, 4582.06, 4483.23, 4699.22, 4967.43, 5052.00, 5148.18, 5238.24, 5215.39, 5187.91, 5217.02, 5265.57, 5203.13]\n",
    "oS_cbtadol_500_CNN_testloss_adolescent_ppl= \\\n",
    "[543.68,  445.22,  396.09,  401.29,  377.76,  365.09,  376.84,  333.28,  331.81,  330.03,  335.99,  327.64,  331.10,  329.33,  329.52,  331.37,  331.83,  330.98,  332.98,  332.99]\n",
    "oS_cbtadol_500_CNN_testloss_cbt_ppl= \\\n",
    "[175.97,  137.85,  126.97,  118.51,  114.60,  109.80,  108.19,   99.24,   98.84,   97.97,   98.13,   94.78,   94.04,   92.42,   92.24,   92.18,   91.73,   91.35,   91.20,   90.91]"
   ]
  },
  {
   "cell_type": "code",
   "execution_count": 43,
   "id": "57767a6b-c02e-4f4e-9de0-d3546fca3974",
   "metadata": {},
   "outputs": [],
   "source": [
    "oS_cbtadol_500_LSTM_valid_loss_ppl = \\\n",
    "[328.75,  241.68,  209.66,  203.77,  193.07,  191.48,  191.00,  194.48,  180.10,  180.80,  176.77,  177.68,  176.21,  175.88,  177.58,  176.70,  175.87,  175.43,  176.05,  175.33]\n",
    "oS_cbtadol_500_LSTM_testloss_adult_ppl= \\\n",
    "[3885.89, 3926.38, 3658.59, 4329.10, 3680.64, 3913.64, 4227.43, 4341.73, 4441.92, 4674.16, 4859.15, 4940.44, 5030.35, 5103.80, 5152.99, 5205.11, 5143.41, 5171.47, 5151.93, 5158.32]\n",
    "oS_cbtadol_500_LSTM_testloss_adolescent_ppl= \\\n",
    "[640.14,  438.10,  377.03,  373.37,  351.08,  347.94,  350.80,  366.91,  338.49,  342.68,  339.09,  341.86,  342.67,  340.74,  346.94,  346.54,  344.89,  343.37,  345.92,  343.98]\n",
    "oS_cbtadol_500_LSTM_testloss_cbt_ppl= \\\n",
    "[172.63,  135.96,  118.68,  113.29,  108.15,  107.35,  106.06,  105.11,   97.69,   97.24,   94.05,   94.19,   92.46,   92.61,   92.74,   91.94,   91.53,   91.47,   91.44,   91.20]"
   ]
  },
  {
   "cell_type": "code",
   "execution_count": 61,
   "id": "4f7fc051-30a3-430a-af06-37cca48e8f28",
   "metadata": {},
   "outputs": [],
   "source": [
    "oS_cbtadol_1000_CNN_valid_loss_ppl = \\\n",
    "[3301.76,  238.52,  219.68,  207.33,  204.25,  203.58,  198.33,  197.86,  200.14,  183.18,  185.18,  177.89,  177.70,  179.17,  176.86,  178.08,  176.46,  176.53,  175.88,  176.49]\n",
    "oS_cbtadol_1000_CNN_testloss_adult_ppl= \\\n",
    "[3948.40, 4332.70, 5996.99, 4568.89, 4204.05, 4109.47, 4690.77, 4042.09, 4113.83, 6562.95, 4345.88, 4853.20, 4697.32, 4927.68, 5138.71, 5065.60, 5264.27, 5252.35, 5372.75, 5281.70]\n",
    "oS_cbtadol_1000_CNN_testloss_adolescent_ppl= \\\n",
    "[536.08,  426.20,  405.14,  380.15,  380.49,  385.92,  387.21,  369.99,  382.19,  347.89,  343.91,  338.74,  338.55,  344.46,  341.83,  344.91,  343.39,  343.52,  343.51,  345.94]\n",
    "oS_cbtadol_1000_CNN_testloss_cbt_ppl= \\\n",
    "[173.23,  135.61,  121.51,  115.35,  110.62,  109.21,  108.37,  106.89,  107.22,   98.28,  101.10,   95.49,   95.20,   95.24,   93.45,   93.91,   92.70,   92.78,   92.07,   92.10]"
   ]
  },
  {
   "cell_type": "code",
   "execution_count": 62,
   "id": "1b23f602-e4af-4b09-9221-35b417347737",
   "metadata": {},
   "outputs": [],
   "source": [
    "oS_cbtadol_1000_LSTM_valid_loss_ppl = \\\n",
    "[325.29,  232.29,  215.05,  203.89,  197.96,  197.66,  193.79,  193.94,  181.91,  182.09,  178.22,  180.35,  177.28,  176.69,  177.80,  176.28,  176.69,  175.74,  175.91,  175.43]\n",
    "oS_cbtadol_1000_LSTM_testloss_adult_ppl= \\\n",
    "[12231.59, 3471.30, 3745.27, 3716.22, 4008.44, 4287.42, 4125.67, 4630.49, 4951.18, 5138.18, 5307.44, 5511.76, 5572.61, 5560.59, 5745.78, 5576.81, 5662.84, 5578.50, 5583.45, 5561.43]\n",
    "oS_cbtadol_1000_LSTM_testloss_adolescent_ppl= \\\n",
    "[628.16,  410.62,  388.71,  372.11,  360.11,  362.15,  357.11,  363.20,  342.53,  345.51,  339.86,  347.86,  342.09,  341.74,  345.12,  342.18,  344.46,  342.37,  343.38,  342.65]\n",
    "oS_cbtadol_1000_LSTM_testloss_cbt_ppl= \\\n",
    "[172.91,  133.67,  120.64,  113.62,  110.52,  109.69,  107.11,  105.43,   98.37,   97.82,   95.27,   95.34,   93.73,   93.23,   93.52,   92.71,   92.56,   92.14,   92.03,   91.74]"
   ]
  },
  {
   "cell_type": "code",
   "execution_count": 63,
   "id": "9257c04f-ccc5-45db-a5ab-593b388bba56",
   "metadata": {},
   "outputs": [],
   "source": [
    "oS_cbtadol_2000_CNN_valid_loss_ppl = \\\n",
    "[302.68,  239.18,  218.19,  209.89,  203.07,  198.41,  197.42,  196.52,  200.67,  183.49,  184.22,  179.36,  178.46,  179.30,  177.45,  177.67,  176.20,  176.20,  176.23,  175.39]\n",
    "oS_cbtadol_2000_CNN_testloss_adult_ppl= \\\n",
    "[12770.87, 4731.14, 4366.63, 3588.98, 5908.29, 3965.74, 6889.64, 4215.65,17457.42, 9209.77, 9528.70,10792.37, 8964.74,10253.74, 8836.39, 9622.35, 9190.49,10105.88, 9235.90, 8754.87]\n",
    "oS_cbtadol_2000_CNN_testloss_adolescent_ppl= \\\n",
    "[552.42,  440.09,  395.97,  381.35,  374.05,  369.81,  368.72,  372.19,  385.61,  346.68,  349.47,  341.68,  340.99,  344.99,  342.32,  344.72,  342.15,  343.22,  343.42,  341.76]\n",
    "oS_cbtadol_2000_CNN_testloss_cbt_ppl= \\\n",
    "[169.25,  133.04,  122.55,  118.13,  112.33,  108.65,  107.61,  105.92,  106.68,   98.65,   98.58,   95.70,   95.27,   94.93,   93.74,   93.36,   92.48,   92.37,   92.20,   91.76]"
   ]
  },
  {
   "cell_type": "code",
   "execution_count": 64,
   "id": "d424be45-3065-4826-b93e-fdb58ea3350b",
   "metadata": {},
   "outputs": [],
   "source": [
    "oS_cbtadol_2000_LSTM_valid_loss_ppl = \\\n",
    "[323.04,  242.08,  218.05,  205.80,  199.40,  198.23,  196.48,  200.88,  184.44,  185.25,  181.19,  182.19,  181.09,  180.97,  181.57,  181.00,  180.23,  179.84,  180.61,  179.51]\n",
    "oS_cbtadol_2000_LSTM_testloss_adult_ppl= \\\n",
    "[4221.46, 3712.78, 3337.17, 3738.44, 3984.79, 4984.96, 3740.26,14004.31, 4908.71, 7409.92, 8696.79, 7567.20, 9237.88, 7421.49, 9313.29, 8673.22, 7842.34, 7560.65, 7875.21, 7221.52]\n",
    "oS_cbtadol_2000_LSTM_testloss_adolescent_ppl= \\\n",
    "[626.59,  449.80,  400.10,  376.83,  363.41,  368.62,  363.55,  368.91,  345.50,  349.17,  346.72,  350.44,  350.34,  350.71,  352.99,  353.22,  351.68,  350.68,  353.09,  350.65]\n",
    "oS_cbtadol_2000_LSTM_testloss_cbt_ppl= \\\n",
    "[173.76,  133.29,  121.00,  114.47,  111.29,  108.48,  107.99,  110.92,   99.99,   99.85,   96.36,   96.35,   95.21,   95.01,   95.05,   94.38,   94.00,   93.89,   94.04,   93.54]"
   ]
  },
  {
   "cell_type": "code",
   "execution_count": 48,
   "id": "e6eee7ab-964e-48cb-b2b4-cfc7811142fe",
   "metadata": {},
   "outputs": [],
   "source": [
    "oS_cbtadol_5000_CNN_valid_loss_ppl = \\\n",
    "[329.03,  238.10,  215.99,  212.68,  206.23,  202.20,  199.90,  196.45,  197.75,  184.41,  183.27,  185.33,  179.63,  180.20,  178.01,  178.08,  177.14,  177.83,  177.06,  177.05]\n",
    "oS_cbtadol_5000_CNN_testloss_adult_ppl= \\\n",
    "[3610.26, 3903.20, 4213.23,17714.45, 3910.60, 4863.71, 5825.10, 3935.60, 3989.36, 4518.69, 4621.95, 4831.80, 4994.35, 5001.03, 5131.26, 5158.21, 5216.99, 5170.06, 5128.60, 5142.22]\n",
    "oS_cbtadol_5000_CNN_testloss_adolescent_ppl= \\\n",
    "[611.81,  431.31,  383.76,  387.18,  377.53,  372.13,  369.73,  363.70,  369.29,  347.63,  345.77,  352.35,  343.89,  347.38,  345.06,  345.53,  344.73,  347.21,  346.23,  346.48]\n",
    "oS_cbtadol_5000_CNN_testloss_cbt_ppl= \\\n",
    "[169.47,  134.00,  123.85,  119.03,  114.52,  111.83,  109.99,  108.07,  107.81,   99.77,   99.06,   99.47,   95.70,   95.49,   93.88,   93.73,   92.90,   92.97,   92.41,   92.36]"
   ]
  },
  {
   "cell_type": "code",
   "execution_count": 49,
   "id": "fe46acb2-0bb1-4f66-9970-931ab3df9e8b",
   "metadata": {},
   "outputs": [],
   "source": [
    "oS_cbtadol_5000_LSTM_valid_loss_ppl = \\\n",
    "[325.73,  242.14,  216.43,  205.02,  201.75,  197.38,  197.48,  184.87,  186.82,  182.53,  182.52,  183.53,  183.55,  183.54,  182.11,  182.34,  181.42,  181.51,  180.98,  180.78]\n",
    "oS_cbtadol_5000_LSTM_testloss_adult_ppl= \\\n",
    "[4051.93, 5463.94, 6234.86, 8961.15, 4203.69, 8680.48, 6132.56,10390.07, 6830.89,12676.66,10457.99,11346.20,15510.47,13546.35,14769.98,14033.51,14131.98,13970.25,13604.81,13184.53]\n",
    "oS_cbtadol_5000_LSTM_testloss_adolescent_ppl= \\\n",
    "[618.68,  442.14,  392.73,  371.16,  369.41,  363.62,  367.18,  347.91,  356.00,  350.83,  351.58,  356.45,  360.82,  362.72,  358.84,  360.20,  358.05,  358.27,  356.97,  356.35]\n",
    "oS_cbtadol_5000_LSTM_testloss_cbt_ppl= \\\n",
    "[175.66,  135.08,  121.31,  115.27,  112.21,  109.09,  108.15,  100.11,  100.00,   96.93,   96.65,   96.46,   95.37,   94.86,   94.36,   94.25,   93.85,   93.87,   93.67,   93.63]"
   ]
  },
  {
   "cell_type": "code",
   "execution_count": 50,
   "id": "91ba9284-2f3d-4b4a-8618-1d1b6eb71403",
   "metadata": {},
   "outputs": [],
   "source": [
    "oS_cbtadol_10000_CNN_valid_loss_ppl = \\\n",
    "[332.73,  242.36,  223.97,  212.61,  201.48,  231.96,  185.72,  184.58,  190.88,  188.12,  177.56,  181.12,  176.73,  176.95,  175.53,  175.90,  175.14,  175.14,  174.98,  175.25]\n",
    "oS_cbtadol_10000_CNN_testloss_adult_ppl= \\\n",
    "[4484.17, 3582.09, 4537.73, 4256.10, 3902.19, 4183.47, 4133.52, 4266.37, 4484.20, 4802.07, 4916.77, 4817.19, 4888.35, 4892.91, 4818.48, 4849.78, 4807.03, 4816.09, 4805.48, 4818.87]\n",
    "oS_cbtadol_10000_CNN_testloss_adolescent_ppl= \\\n",
    "[652.17,  440.81,  413.25,  391.68,  361.65,  489.84,  342.29,  341.90,  356.59,  360.56,  335.66,  351.36,  337.04,  338.26,  334.98,  336.47,  334.62,  334.96,  334.78,  335.49]\n",
    "oS_cbtadol_10000_CNN_testloss_cbt_ppl= \\\n",
    "[173.21,  134.60,  123.53,  117.47,  114.22,  112.45,  102.58,  101.55,  101.74,   98.06,   95.49,   95.13,   94.17,   94.10,   93.47,   93.47,   93.17,   93.09,   92.97,   93.06]"
   ]
  },
  {
   "cell_type": "code",
   "execution_count": 51,
   "id": "60a16677-9b48-46b8-b9c4-d3ea1a7f324d",
   "metadata": {},
   "outputs": [],
   "source": [
    "oS_cbtadol_10000_LSTM_valid_loss_ppl = \\\n",
    "[320.13,  242.53,  216.61,  206.87,  201.02,  197.30,  196.12,  200.52,  187.63,  188.48,  184.92,  185.51,  185.54,  184.76,  184.75,  185.52,  184.57,  184.45,  184.79,  184.17]\n",
    "oS_cbtadol_10000_LSTM_testloss_adult_ppl= \\\n",
    "[4051.93, 5463.94, 6234.86, 8961.15, 4203.69, 8680.48, 6132.56,10390.07, 6830.89,12676.66,10457.99,11346.20,15510.47,13546.35,14769.98,14033.51,14131.98,13970.25,13604.81,13184.53]\n",
    "oS_cbtadol_10000_LSTM_testloss_adolescent_ppl= \\\n",
    "[618.68,  442.14,  392.73,  371.16,  369.41,  363.62,  367.18,  347.91,  356.00,  350.83,  351.58,  356.45,  360.82,  362.72,  358.84,  360.20,  358.05,  358.27,  356.97,  356.35]\n",
    "oS_cbtadol_10000_LSTM_testloss_cbt_ppl= \\\n",
    "[]"
   ]
  }
 ],
 "metadata": {
  "kernelspec": {
   "display_name": "Python 3 (ipykernel)",
   "language": "python",
   "name": "python3"
  },
  "language_info": {
   "codemirror_mode": {
    "name": "ipython",
    "version": 3
   },
   "file_extension": ".py",
   "mimetype": "text/x-python",
   "name": "python",
   "nbconvert_exporter": "python",
   "pygments_lexer": "ipython3",
   "version": "3.7.11"
  }
 },
 "nbformat": 4,
 "nbformat_minor": 5
}

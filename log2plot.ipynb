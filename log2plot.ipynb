{
 "cells": [
  {
   "cell_type": "markdown",
   "id": "4abf9a6d-5746-483b-b86d-2ad960a00239",
   "metadata": {},
   "source": [
    "### outputSampleAdolescent"
   ]
  },
  {
   "cell_type": "code",
   "execution_count": 90,
   "id": "d63224c3-c3a8-4a3f-98ab-b528297aa15f",
   "metadata": {},
   "outputs": [],
   "source": [
    "import numpy as np\n",
    "import matplotlib.pyplot as plt"
   ]
  },
  {
   "cell_type": "code",
   "execution_count": 91,
   "id": "47426213-fa50-4a19-a90e-4a23bad77113",
   "metadata": {},
   "outputs": [],
   "source": [
    "# output_sws_00000_chm_CNN.log"
   ]
  },
  {
   "cell_type": "code",
   "execution_count": null,
   "id": "6b8c3045-4d5b-445e-a351-1ec8d2d89bed",
   "metadata": {},
   "outputs": [],
   "source": [
    "[2022-04-11 03:41:14.417] End. test loss  8.02; ppl  3054.62 | accu 0.0791 = 9130/115380 ../data/sample_500k/cbt_valid.txt\n",
    "[2022-04-11 03:41:35.594] End. test loss  9.88; ppl 19495.76 | accu 0.0056 = 2853/506840 ../data/sample_500k/adult_test.txt\n",
    "[2022-04-11 03:41:35.594] =========================================================================================\n",
    "[2022-04-11 03:41:35.595] valid_loss\n",
    "[2022-04-11 03:41:35.595]  6.69, 6.17, 6.06, 6.05, 5.98, 5.97, 6.01, 5.93, 5.93, 5.91, 5.92, 5.91, 5.92, 5.91, 5.91, 5.91, 5.91, 5.91, 5.91, 5.91, 5.91, 5.91, 5.91, 5.91, 5.91, 5.91, 5.91, 5.91, 5.91, 5.91, 5.91, 5.91, 5.91, 5.91, 5.91, 5.91, 5.91, 5.91, 5.91, 5.91\n",
    "[2022-04-11 03:41:35.595] valid_loss ppl\n",
    "[2022-04-11 03:41:35.595]   800.77,  478.61,  429.37,  425.82,  397.05,  390.62,  409.09,  374.56,  374.98,  370.48,  374.18,  369.59,  371.37,  370.10,  368.26,  369.28,  368.38,  367.96,  368.16,  368.52,  368.89,  369.09,  369.32,  369.41,  369.49,  369.51,  369.52,  369.52,  369.52,  369.52,  369.52,  369.52,  369.52,  369.52,  369.52,  369.52,  369.52,  369.52,  369.52,  369.52\n",
    "[2022-04-11 03:41:35.595] test_loss of ../data/sample_500k/cbt_valid.txt\n",
    "[2022-04-11 03:41:35.595]  7.33, 7.67, 7.55, 7.83, 7.74, 7.74, 8.08, 8.16, 8.18, 8.27, 8.21, 8.11, 8.13, 8.09, 8.08, 8.00, 8.03, 8.02, 8.00, 8.03, 8.03, 8.04, 8.04, 8.04, 8.05, 8.05, 8.05, 8.05, 8.05, 8.05, 8.05, 8.05, 8.05, 8.05, 8.05, 8.05, 8.05, 8.05, 8.05, 8.05\n",
    "[2022-04-11 03:41:35.595] test_loss of ../data/sample_500k/cbt_valid.txt ppl\n",
    "[2022-04-11 03:41:35.595]  1518.72, 2143.45, 1901.15, 2507.65, 2300.65, 2297.01, 3214.72, 3497.09, 3563.00, 3893.31, 3662.80, 3339.04, 3398.01, 3264.17, 3241.32, 2992.67, 3057.01, 3054.62, 2973.92, 3060.39, 3063.62, 3092.78, 3108.37, 3114.45, 3119.61, 3121.07, 3121.49, 3122.00, 3122.07, 3122.07, 3122.08, 3122.08, 3122.07, 3122.07, 3122.06, 3122.06, 3122.06, 3122.06, 3122.06, 3122.06\n",
    "[2022-04-11 03:41:35.595] test_loss of ../data/sample_500k/adult_test.txt\n",
    "[2022-04-11 03:41:35.595]  8.53, 9.37, 9.29, 9.77, 9.74, 9.31,10.17, 9.92, 9.98,10.14,10.15, 9.98, 9.89, 9.91, 9.88, 9.85, 9.86, 9.88, 9.83, 9.87, 9.87, 9.88, 9.88, 9.88, 9.88, 9.89, 9.89, 9.89, 9.89, 9.89, 9.89, 9.89, 9.89, 9.89, 9.89, 9.89, 9.89, 9.89, 9.89, 9.89\n",
    "[2022-04-11 03:41:35.595] test_loss of ../data/sample_500k/adult_test.txt ppl\n",
    "[2022-04-11 03:41:35.595]  5064.48,11733.39,10801.80,17565.14,17019.21,11018.55,25999.42,20400.16,21498.07,25445.14,25612.54,21497.18,19697.12,20206.44,19586.84,18990.50,19118.64,19495.76,18550.21,19396.26,19334.62,19487.46,19581.08,19606.10,19629.64,19637.16,19641.13,19644.81,19645.26,19645.41,19645.27,19645.22,19645.14,19645.10,19645.09,19645.08,19645.08,19645.08,19645.08,19645.08"
   ]
  },
  {
   "cell_type": "code",
   "execution_count": 92,
   "id": "a808852b-3ab8-4fc2-ba68-dd5ba4a8fb5c",
   "metadata": {},
   "outputs": [],
   "source": [
    "valid_loss_01 = \\\n",
    "  [6.69, 6.17, 6.06, 6.05, 5.98, 5.97, 6.01, 5.93, 5.93, 5.91, 5.92, 5.91, 5.92, 5.91, 5.91, 5.91, 5.91, 5.91, 5.91, 5.91, 5.91, 5.91, 5.91, 5.91, 5.91, 5.91, 5.91, 5.91, 5.91, 5.91, 5.91, 5.91, 5.91, 5.91, 5.91, 5.91, 5.91, 5.91, 5.91, 5.91]\n",
    "valid_loss_ppl_01 = \\\n",
    "  [800.77,  478.61,  429.37,  425.82,  397.05,  390.62,  409.09,  374.56,  374.98,  370.48,  374.18,  369.59,  371.37,  370.10,  368.26,  369.28,  368.38,  367.96,  368.16,  368.52,  368.89,  369.09,  369.32,  369.41,  369.49,  369.51,  369.52,  369.52,  369.52,  369.52,  369.52,  369.52,  369.52,  369.52,  369.52,  369.52,  369.52,  369.52,  369.52,  369.52]\n",
    "test_loss_cbt_valid_01 = \\\n",
    "  [7.33, 7.67, 7.55, 7.83, 7.74, 7.74, 8.08, 8.16, 8.18, 8.27, 8.21, 8.11, 8.13, 8.09, 8.08, 8.00, 8.03, 8.02, 8.00, 8.03, 8.03, 8.04, 8.04, 8.04, 8.05, 8.05, 8.05, 8.05, 8.05, 8.05, 8.05, 8.05, 8.05, 8.05, 8.05, 8.05, 8.05, 8.05, 8.05, 8.05]\n",
    "test_loss_cbt_valid_ppl_01 = \\\n",
    "  [1518.72, 2143.45, 1901.15, 2507.65, 2300.65, 2297.01, 3214.72, 3497.09, 3563.00, 3893.31, 3662.80, 3339.04, 3398.01, 3264.17, 3241.32, 2992.67, 3057.01, 3054.62, 2973.92, 3060.39, 3063.62, 3092.78, 3108.37, 3114.45, 3119.61, 3121.07, 3121.49, 3122.00, 3122.07, 3122.07, 3122.08, 3122.08, 3122.07, 3122.07, 3122.06, 3122.06, 3122.06, 3122.06, 3122.06, 3122.06]\n",
    "test_loss_adult_test_01 = \\\n",
    "  [8.53, 9.37, 9.29, 9.77, 9.74, 9.31,10.17, 9.92, 9.98,10.14,10.15, 9.98, 9.89, 9.91, 9.88, 9.85, 9.86, 9.88, 9.83, 9.87, 9.87, 9.88, 9.88, 9.88, 9.88, 9.89, 9.89, 9.89, 9.89, 9.89, 9.89, 9.89, 9.89, 9.89, 9.89, 9.89, 9.89, 9.89, 9.89, 9.89]\n",
    "test_loss_adult_test_ppl_01 = \\\n",
    "  [5064.48,11733.39,10801.80,17565.14,17019.21,11018.55,25999.42,20400.16,21498.07,25445.14,25612.54,21497.18,19697.12,20206.44,19586.84,18990.50,19118.64,19495.76,18550.21,19396.26,19334.62,19487.46,19581.08,19606.10,19629.64,19637.16,19641.13,19644.81,19645.26,19645.41,19645.27,19645.22,19645.14,19645.10,19645.09,19645.08,19645.08,19645.08,19645.08,19645.08]"
   ]
  },
  {
   "cell_type": "code",
   "execution_count": 93,
   "id": "e78f720e-86a7-45f9-997a-dd145d77e951",
   "metadata": {},
   "outputs": [
    {
     "data": {
      "text/plain": [
       "40"
      ]
     },
     "execution_count": 93,
     "metadata": {},
     "output_type": "execute_result"
    }
   ],
   "source": [
    "len(valid_loss)"
   ]
  },
  {
   "cell_type": "code",
   "execution_count": 94,
   "id": "71fbab4a-b36a-4fd3-87f8-9a43a89caa37",
   "metadata": {},
   "outputs": [],
   "source": [
    "x_ticker = np.arange(1, 41).tolist()"
   ]
  },
  {
   "cell_type": "code",
   "execution_count": 95,
   "id": "af58d537-b7d2-468d-855b-2b7948b2c0e1",
   "metadata": {},
   "outputs": [
    {
     "data": {
      "image/png": "[encoded data removed]",
      "text/plain": [
       "<Figure size 432x288 with 1 Axes>"
      ]
     },
     "metadata": {
      "needs_background": "light"
     },
     "output_type": "display_data"
    }
   ],
   "source": [
    "plt.plot(x_ticker, valid_loss_ppl_01)\n",
    "# plt.plot(test_loss_cbt_valid_ppl)\n",
    "# plt.plot(test_loss_adult_test_ppl)\n",
    "plt.title(\"Training validation loss PPL (adolescent) chm CNN\")\n",
    "plt.xlabel('epoch')\n",
    "plt.ylabel('PPL')\n",
    "plt.show()"
   ]
  },
  {
   "cell_type": "code",
   "execution_count": 96,
   "id": "85cd57e1-cfe2-46f9-9741-1d50d071c52c",
   "metadata": {},
   "outputs": [
    {
     "data": {
      "text/plain": [
       "369.52"
      ]
     },
     "execution_count": 96,
     "metadata": {},
     "output_type": "execute_result"
    }
   ],
   "source": [
    "valid_loss_ppl_01[-1]"
   ]
  },
  {
   "cell_type": "code",
   "execution_count": 97,
   "id": "79eb18bf-9c4d-4fc7-b017-b6bd65e9ed44",
   "metadata": {},
   "outputs": [
    {
     "data": {
      "text/plain": [
       "3122.06"
      ]
     },
     "execution_count": 97,
     "metadata": {},
     "output_type": "execute_result"
    }
   ],
   "source": [
    "test_loss_cbt_valid_ppl_01[-1]"
   ]
  },
  {
   "cell_type": "code",
   "execution_count": 98,
   "id": "5d09664d-83b8-4d56-b94c-d1bd6ae5756f",
   "metadata": {},
   "outputs": [
    {
     "data": {
      "text/plain": [
       "19645.08"
      ]
     },
     "execution_count": 98,
     "metadata": {},
     "output_type": "execute_result"
    }
   ],
   "source": [
    "test_loss_adult_test_ppl_01[-1]"
   ]
  },
  {
   "cell_type": "code",
   "execution_count": 99,
   "id": "10700d85-11a9-41b1-aa14-698405782d80",
   "metadata": {},
   "outputs": [],
   "source": [
    "# output_sws_00000_chm_LSTM.log"
   ]
  },
  {
   "cell_type": "code",
   "execution_count": 100,
   "id": "7ddbcba0-866c-4cd3-b1cc-edf75d9c9f58",
   "metadata": {},
   "outputs": [],
   "source": [
    "valid_loss_02 = \\\n",
    "  [6.76, 6.26, 6.10, 6.02, 6.01, 6.00, 6.01, 5.96, 5.97, 5.94, 5.96, 5.95, 5.95, 5.94, 5.95, 5.95, 5.95, 5.95, 5.95, 5.95, 5.95, 5.95, 5.95, 5.95, 5.95, 5.95, 5.95, 5.95, 5.95, 5.95, 5.95, 5.95, 5.95, 5.95, 5.95, 5.95, 5.95, 5.95, 5.95, 5.95]\n",
    "valid_loss_ppl_02 = \\\n",
    "  [860.85,  524.10,  443.90,  412.60,  406.95,  404.30,  408.11,  387.08,  391.86,  381.66,  386.49,  382.97,  383.10,  381.58,  382.68,  381.92,  382.49,  383.07,  383.31,  383.60,  383.74,  383.78,  383.79,  383.81,  383.82,  383.82,  383.82,  383.82,  383.82,  383.82,  383.82,  383.82,  383.82,  383.82,  383.82,  383.82,  383.82,  383.82,  383.82,  383.82]\n",
    "test_loss_cbt_valid_02 = \\\n",
    "  [7.80, 8.04, 8.36, 8.59, 7.82, 7.92, 8.41, 8.23, 8.11, 7.98, 7.96, 7.67, 7.70, 7.65, 7.65, 7.65, 7.66, 7.66, 7.66, 7.66, 7.66, 7.66, 7.66, 7.66, 7.66, 7.66, 7.66, 7.66, 7.66, 7.66, 7.66, 7.66, 7.66, 7.66, 7.66, 7.66, 7.66, 7.66, 7.66, 7.66]\n",
    "test_loss_cbt_valid_ppl_02 = \\\n",
    "  [2433.54, 3093.23, 4253.31, 5385.40, 2479.09, 2742.18, 4498.12, 3750.25, 3335.88, 2913.64, 2870.06, 2146.32, 2201.94, 2106.45, 2095.72, 2106.00, 2113.38, 2114.28, 2123.86, 2127.32, 2126.36, 2125.72, 2125.89, 2126.29, 2126.42, 2126.51, 2126.52, 2126.56, 2126.56, 2126.55, 2126.55, 2126.55, 2126.55, 2126.55, 2126.55, 2126.55, 2126.55, 2126.55, 2126.55, 2126.55]\n",
    "test_loss_adult_test_02 = \\\n",
    "  [9.00,10.02,10.80,10.66, 9.50, 9.05, 9.75, 9.81, 9.45, 9.19, 9.25, 9.09, 9.09, 9.07, 9.07, 9.08, 9.09, 9.09, 9.10, 9.10, 9.10, 9.10, 9.10, 9.10, 9.10, 9.10, 9.10, 9.10, 9.10, 9.10, 9.10, 9.10, 9.10, 9.10, 9.10, 9.10, 9.10, 9.10, 9.10, 9.10]\n",
    "test_loss_adult_test_ppl_02 = \\\n",
    "  [8106.55,22467.17,48983.65,42619.53,13409.02, 8530.83,17235.45,18152.63,12663.90, 9774.58,10456.52, 8839.97, 8857.10, 8703.16, 8689.93, 8807.06, 8898.04, 8859.94, 8919.93, 8933.64, 8926.62, 8920.14, 8915.42, 8916.35, 8914.62, 8914.51, 8914.19, 8914.35, 8914.28, 8914.22, 8914.21, 8914.21, 8914.20, 8914.20, 8914.20, 8914.20, 8914.20, 8914.20, 8914.20, 8914.20]"
   ]
  },
  {
   "cell_type": "code",
   "execution_count": 101,
   "id": "429976cd-854e-4aad-8289-d2a437d4d029",
   "metadata": {},
   "outputs": [
    {
     "data": {
      "image/png": "[encoded data removed]",
      "text/plain": [
       "<Figure size 432x288 with 1 Axes>"
      ]
     },
     "metadata": {
      "needs_background": "light"
     },
     "output_type": "display_data"
    }
   ],
   "source": [
    "plt.plot(x_ticker, valid_loss_ppl_02)\n",
    "\n",
    "plt.title(\"Training validation loss PPL (adolescent) chm LSTM\")\n",
    "plt.xlabel('epoch')\n",
    "plt.ylabel('PPL')\n",
    "plt.show()"
   ]
  },
  {
   "cell_type": "code",
   "execution_count": 102,
   "id": "d46ed952-88b3-414b-8ec9-9ab186f835ca",
   "metadata": {},
   "outputs": [
    {
     "data": {
      "text/plain": [
       "383.82"
      ]
     },
     "execution_count": 102,
     "metadata": {},
     "output_type": "execute_result"
    }
   ],
   "source": [
    "valid_loss_ppl_02[-1]"
   ]
  },
  {
   "cell_type": "code",
   "execution_count": 103,
   "id": "cb7e394a-7266-4eff-951c-9ef8d2745ddb",
   "metadata": {},
   "outputs": [
    {
     "data": {
      "text/plain": [
       "2126.55"
      ]
     },
     "execution_count": 103,
     "metadata": {},
     "output_type": "execute_result"
    }
   ],
   "source": [
    "test_loss_cbt_valid_ppl_02[-1]"
   ]
  },
  {
   "cell_type": "code",
   "execution_count": 104,
   "id": "278dbf0a-04fb-4c41-9c1c-a8449a1af8ba",
   "metadata": {},
   "outputs": [
    {
     "data": {
      "text/plain": [
       "8914.2"
      ]
     },
     "execution_count": 104,
     "metadata": {},
     "output_type": "execute_result"
    }
   ],
   "source": [
    "test_loss_adult_test_ppl_02[-1]"
   ]
  },
  {
   "cell_type": "code",
   "execution_count": 106,
   "id": "cf334fcf-8751-4c54-8d13-4901b974bb56",
   "metadata": {},
   "outputs": [],
   "source": [
    "# LSTM perform better than CNN for adult test"
   ]
  },
  {
   "cell_type": "code",
   "execution_count": null,
   "id": "c57d8a3e-ad0f-4ff3-87a6-9ab4b9ea0dd8",
   "metadata": {},
   "outputs": [],
   "source": [
    "# sws 200 perform"
   ]
  }
 ],
 "metadata": {
  "kernelspec": {
   "display_name": "Python 3 (ipykernel)",
   "language": "python",
   "name": "python3"
  },
  "language_info": {
   "codemirror_mode": {
    "name": "ipython",
    "version": 3
   },
   "file_extension": ".py",
   "mimetype": "text/x-python",
   "name": "python",
   "nbconvert_exporter": "python",
   "pygments_lexer": "ipython3",
   "version": "3.7.11"
  }
 },
 "nbformat": 4,
 "nbformat_minor": 5
}

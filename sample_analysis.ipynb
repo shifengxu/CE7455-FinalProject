{
 "cells": [
  {
   "cell_type": "code",
   "execution_count": 3,
   "id": "c09de514-d17f-4b92-a3d6-0d3699928112",
   "metadata": {},
   "outputs": [],
   "source": [
    "import pandas as pd\n",
    "import csv\n",
    "import sys\n",
    "import os\n",
    "from pathlib import Path\n",
    "import random\n",
    "import matplotlib.pyplot as plt"
   ]
  },
  {
   "cell_type": "code",
   "execution_count": 4,
   "id": "64c2efb6-699b-413f-af45-6376a1de6b59",
   "metadata": {},
   "outputs": [],
   "source": [
    "# Process file line by line until reach required word sample size\n",
    "sample_size = 100_000"
   ]
  },
  {
   "cell_type": "markdown",
   "id": "edfe1519-e0d7-4905-9936-bc17f231561a",
   "metadata": {},
   "source": [
    "### Sample Creation Func"
   ]
  },
  {
   "cell_type": "code",
   "execution_count": 5,
   "id": "6c4ffe7c-c2fd-4d7f-bdd0-9776702b7451",
   "metadata": {},
   "outputs": [],
   "source": [
    "def filenames_from_folder(directory, filename, nof_samples):\n",
    "    pathlist = Path(directory).glob(filename + '*.txt')\n",
    "\n",
    "    rc = []\n",
    "    for k, path in enumerate(pathlist):\n",
    "        if k < nof_samples:\n",
    "            rc.append(str(path)) # because path is object not string\n",
    "        else:\n",
    "            i = random.randint(0, k)\n",
    "            if i < nof_samples:\n",
    "                rc[i] = str(path)\n",
    "    return rc"
   ]
  },
  {
   "cell_type": "code",
   "execution_count": 6,
   "id": "f8c35047-4462-4ff1-9469-52454fae26d8",
   "metadata": {},
   "outputs": [],
   "source": [
    "def create_sample(directory, file_name, rc, sample_size):\n",
    "    fw = open(directory +\"/\" + file_name, \"w\", encoding=\"utf8\")\n",
    "    size = 0\n",
    "\n",
    "    for file_path in rc:\n",
    "        with open(file_path, 'r', encoding=\"utf8\") as f:\n",
    "            for line in f:\n",
    "                if size >= sample_size:\n",
    "                    break\n",
    "                fw.write(line)\n",
    "                size+= len(line.split())\n",
    "    fw.close()"
   ]
  },
  {
   "cell_type": "markdown",
   "id": "4c140c5f-1d45-4daa-8ddd-b61c8b62855b",
   "metadata": {},
   "source": [
    "### Sample Analysis Func"
   ]
  },
  {
   "cell_type": "code",
   "execution_count": 7,
   "id": "20f53e39-187a-4073-8246-e7c4aa9fd112",
   "metadata": {},
   "outputs": [],
   "source": [
    "class WordAnalysis(object):\n",
    "    def __init__(self):\n",
    "        self.wordsfreq = {}\n",
    "        self.wordslen = {}\n",
    "        self.words = []\n",
    "        \n",
    "    def add_word(self, word):\n",
    "        if word not in self.words:\n",
    "            self.words.append(word)\n",
    "            self.wordsfreq[word] = 1\n",
    "            word_len = len(word)\n",
    "            \n",
    "            if word_len in self.wordslen:\n",
    "                self.wordslen[word_len] += 1\n",
    "            else:\n",
    "                self.wordslen[word_len] = 1\n",
    "        else:\n",
    "            self.wordsfreq[word] += 1\n",
    "            word_len = len(word)\n",
    "            self.wordslen[word_len] += 1"
   ]
  },
  {
   "cell_type": "code",
   "execution_count": 8,
   "id": "4d63bebb-9778-4dbb-9b85-cc1f3d59d21f",
   "metadata": {},
   "outputs": [],
   "source": [
    "class Corpus(object):\n",
    "    def __init__(self, path):\n",
    "        self.analysis = WordAnalysis()\n",
    "        self.data = self.process(os.path.join(path))\n",
    "\n",
    "    def process(self, path):\n",
    "        assert os.path.exists(path)\n",
    "        # Add words to the dictionary\n",
    "        with open(path, 'r', encoding=\"utf8\") as f:\n",
    "            for line in f:\n",
    "                words = line.split() + ['<eos>']\n",
    "                for word in words:\n",
    "                    self.analysis.add_word(word)\n",
    "\n",
    "        return 0"
   ]
  },
  {
   "cell_type": "code",
   "execution_count": 9,
   "id": "dd072bce-ecd5-4a3f-8a67-a18c44fa8cb5",
   "metadata": {},
   "outputs": [],
   "source": [
    "def average_word_len(dictionary):\n",
    "    length = 0\n",
    "    word_count = 0\n",
    "    for key, value in dictionary.items():\n",
    "        length += key * value\n",
    "        word_count += value\n",
    "    return (length/word_count)"
   ]
  },
  {
   "cell_type": "markdown",
   "id": "8485e220-c2ff-45a1-9d40-c2585bcfdd72",
   "metadata": {},
   "source": [
    "## Data Analysis"
   ]
  },
  {
   "cell_type": "code",
   "execution_count": 10,
   "id": "7eac7d42-03b5-4677-b247-b252af16a448",
   "metadata": {},
   "outputs": [],
   "source": [
    "data_loc = \"raw_data\"\n",
    "adult_loc = \"/Allthenews\"\n",
    "child_loc = \"/child_CBT/CBTest/data\"\n",
    "inter_loc = \"/fanfiction/SFGram-dataset-master/book-contents\"\n",
    "adol_loc = \"/adolescent\""
   ]
  },
  {
   "cell_type": "markdown",
   "id": "2ca4cdee-c1cc-479c-ad52-5c79aefd7cc8",
   "metadata": {},
   "source": [
    "#### Adult Sample Analysis"
   ]
  },
  {
   "cell_type": "code",
   "execution_count": 11,
   "id": "474b1ddb-72f8-4372-9888-1648a1f11fad",
   "metadata": {},
   "outputs": [],
   "source": [
    "adult_rc = filenames_from_folder(data_loc+adult_loc, \"articles\", 10)"
   ]
  },
  {
   "cell_type": "code",
   "execution_count": 12,
   "id": "2dd1d45d-cd5b-45c8-b59b-a6fd6a33d560",
   "metadata": {},
   "outputs": [],
   "source": [
    "create_sample(data_loc+adult_loc, \"adult_sample.txt\", adult_rc, sample_size)"
   ]
  },
  {
   "cell_type": "code",
   "execution_count": 13,
   "id": "d90ea8e4-719f-4f50-95d3-ea4b8ba5271e",
   "metadata": {},
   "outputs": [],
   "source": [
    "corpus1 = Corpus(data_loc + adult_loc + \"/\" + \"adult_sample.txt\")"
   ]
  },
  {
   "cell_type": "code",
   "execution_count": 14,
   "id": "72947bc8-8e53-450d-b53a-541526dbec1c",
   "metadata": {},
   "outputs": [
    {
     "data": {
      "text/plain": [
       "19431"
      ]
     },
     "execution_count": 14,
     "metadata": {},
     "output_type": "execute_result"
    }
   ],
   "source": [
    "len(corpus1.analysis.words)"
   ]
  },
  {
   "cell_type": "code",
   "execution_count": 15,
   "id": "8f9dfd37-ed8e-45c7-aaf8-9345aeb9cedd",
   "metadata": {},
   "outputs": [
    {
     "data": {
      "text/plain": [
       "4.85431584818094"
      ]
     },
     "execution_count": 15,
     "metadata": {},
     "output_type": "execute_result"
    }
   ],
   "source": [
    "# average word length\n",
    "average_word_len(corpus1.analysis.wordslen)"
   ]
  },
  {
   "cell_type": "code",
   "execution_count": 16,
   "id": "f503d186-ab76-4cc8-9795-89f05c78a1c0",
   "metadata": {},
   "outputs": [
    {
     "data": {
      "image/png": "[encoded data removed]",
      "text/plain": [
       "<Figure size 432x288 with 1 Axes>"
      ]
     },
     "metadata": {
      "needs_background": "light"
     },
     "output_type": "display_data"
    }
   ],
   "source": [
    "word_feq = corpus1.analysis.wordslen\n",
    "\n",
    "plt.bar(list(word_feq.keys()), word_feq.values(), color='g')\n",
    "plt.xticks(list(word_feq.keys()))\n",
    "plt.title(\"Word Length Distribution (Adult)\")\n",
    "plt.xlabel('Word Length')\n",
    "plt.ylabel('Word Count')\n",
    "plt.show()"
   ]
  },
  {
   "cell_type": "markdown",
   "id": "233d2a13-41ef-4814-bf2a-da75f5116c35",
   "metadata": {},
   "source": [
    "#### Child Sample Analysis"
   ]
  },
  {
   "cell_type": "code",
   "execution_count": 17,
   "id": "bac787f1-94ba-412d-80ed-bc041627886b",
   "metadata": {},
   "outputs": [],
   "source": [
    "child_rc = filenames_from_folder(data_loc+child_loc, \"cbt_\", 10)"
   ]
  },
  {
   "cell_type": "code",
   "execution_count": 18,
   "id": "aed5643e-f109-4931-9ced-c2ef576e14ab",
   "metadata": {},
   "outputs": [],
   "source": [
    "create_sample(data_loc+child_loc, \"child_sample.txt\", child_rc, sample_size)"
   ]
  },
  {
   "cell_type": "code",
   "execution_count": 19,
   "id": "7b2ae164-412d-448c-adc4-34a251cf5a4a",
   "metadata": {},
   "outputs": [],
   "source": [
    "corpus2 = Corpus(data_loc + child_loc + \"/\" + \"child_sample.txt\")"
   ]
  },
  {
   "cell_type": "code",
   "execution_count": 20,
   "id": "ff133ca9-0813-4717-887f-f0356e5d07b6",
   "metadata": {},
   "outputs": [
    {
     "data": {
      "text/plain": [
       "5787"
      ]
     },
     "execution_count": 20,
     "metadata": {},
     "output_type": "execute_result"
    }
   ],
   "source": [
    "len(corpus2.analysis.words)"
   ]
  },
  {
   "cell_type": "code",
   "execution_count": 21,
   "id": "477a6b68-3051-45ad-8e70-f942965ec4b5",
   "metadata": {},
   "outputs": [
    {
     "data": {
      "text/plain": [
       "3.709401956253851"
      ]
     },
     "execution_count": 21,
     "metadata": {},
     "output_type": "execute_result"
    }
   ],
   "source": [
    "# average word length\n",
    "average_word_len(corpus2.analysis.wordslen)"
   ]
  },
  {
   "cell_type": "code",
   "execution_count": 23,
   "id": "8bc26d6b-e984-43a8-9290-a3ef8985a991",
   "metadata": {},
   "outputs": [
    {
     "data": {
      "image/png": "[encoded data removed]",
      "text/plain": [
       "<Figure size 432x288 with 1 Axes>"
      ]
     },
     "metadata": {
      "needs_background": "light"
     },
     "output_type": "display_data"
    }
   ],
   "source": [
    "word_feq = corpus2.analysis.wordslen\n",
    "# del word_feq[43]\n",
    "plt.title(\"Word Length Distribution (Child)\")\n",
    "plt.xlabel('Word Length')\n",
    "plt.ylabel('Word Count')\n",
    "plt.bar(list(word_feq.keys()), word_feq.values(), color='g')\n",
    "plt.xticks(list(word_feq.keys()))\n",
    "plt.show()"
   ]
  },
  {
   "cell_type": "markdown",
   "id": "1f1e5f4f-d9c4-4538-a342-b0ad9247e4c0",
   "metadata": {},
   "source": [
    "#### Intermediate Sample Analysis"
   ]
  },
  {
   "cell_type": "code",
   "execution_count": 24,
   "id": "08682d9d-66ef-458c-bdec-b9b028a256a2",
   "metadata": {},
   "outputs": [],
   "source": [
    "inter_rc = filenames_from_folder(data_loc + inter_loc, \"book\", 20)"
   ]
  },
  {
   "cell_type": "code",
   "execution_count": 25,
   "id": "0c881cd4-c658-49f3-99ba-6cee25ebeac0",
   "metadata": {},
   "outputs": [],
   "source": [
    "create_sample(data_loc + inter_loc, \"inter_sample.txt\", inter_rc, sample_size)"
   ]
  },
  {
   "cell_type": "code",
   "execution_count": 26,
   "id": "487d794b-9b55-4c11-82f5-267af4a99bc3",
   "metadata": {},
   "outputs": [],
   "source": [
    "corpus3 = Corpus(data_loc + inter_loc + \"/\" + \"inter_sample.txt\")"
   ]
  },
  {
   "cell_type": "code",
   "execution_count": 27,
   "id": "87587a4c-4f74-4773-ae1d-23b01534d552",
   "metadata": {},
   "outputs": [
    {
     "data": {
      "text/plain": [
       "19665"
      ]
     },
     "execution_count": 27,
     "metadata": {},
     "output_type": "execute_result"
    }
   ],
   "source": [
    "len(corpus3.analysis.words)"
   ]
  },
  {
   "cell_type": "code",
   "execution_count": 28,
   "id": "6235e189-6081-4419-9fc7-b14151e9d071",
   "metadata": {},
   "outputs": [
    {
     "data": {
      "text/plain": [
       "4.7024789151221515"
      ]
     },
     "execution_count": 28,
     "metadata": {},
     "output_type": "execute_result"
    }
   ],
   "source": [
    "# average word length\n",
    "average_word_len(corpus3.analysis.wordslen)"
   ]
  },
  {
   "cell_type": "code",
   "execution_count": 29,
   "id": "bb1dc92e-5579-483b-958e-e175f80518a3",
   "metadata": {},
   "outputs": [
    {
     "data": {
      "image/png": "[encoded data removed]",
      "text/plain": [
       "<Figure size 432x288 with 1 Axes>"
      ]
     },
     "metadata": {
      "needs_background": "light"
     },
     "output_type": "display_data"
    }
   ],
   "source": [
    "word_feq = corpus3.analysis.wordslen\n",
    "plt.title(\"Word Length Distribution (Intermediate)\")\n",
    "plt.xlabel('Word Length')\n",
    "plt.ylabel('Word Count')\n",
    "plt.bar(list(word_feq.keys()), word_feq.values(), color='g')\n",
    "plt.xticks(list(word_feq.keys()))\n",
    "plt.show()"
   ]
  },
  {
   "cell_type": "markdown",
   "id": "2903a5ac-71e7-4412-aba7-91e5a624e415",
   "metadata": {
    "tags": []
   },
   "source": [
    "#### Adolescent Sample Analysis"
   ]
  },
  {
   "cell_type": "code",
   "execution_count": 84,
   "id": "d4ba298b-9ebf-465a-b1f2-7e4bd3828d6d",
   "metadata": {},
   "outputs": [],
   "source": [
    "adol_rc = filenames_from_folder(data_loc + adol_loc, \"adolescent\", 20)"
   ]
  },
  {
   "cell_type": "code",
   "execution_count": 85,
   "id": "b5234b9c-9d04-4889-9fc7-68a9e2409c8c",
   "metadata": {},
   "outputs": [],
   "source": [
    "create_sample(data_loc + adol_loc, \"adol_sample.txt\", adol_rc, sample_size)"
   ]
  },
  {
   "cell_type": "code",
   "execution_count": 86,
   "id": "1d2c370d-90aa-49a4-8ed4-6ff17787eee5",
   "metadata": {},
   "outputs": [],
   "source": [
    "corpus4 = Corpus(data_loc + adol_loc + \"/\" + \"adol_sample.txt\")"
   ]
  },
  {
   "cell_type": "code",
   "execution_count": 87,
   "id": "689bbede-d7e7-49ae-bdc8-9751f1f9ffb0",
   "metadata": {},
   "outputs": [
    {
     "data": {
      "text/plain": [
       "16820"
      ]
     },
     "execution_count": 87,
     "metadata": {},
     "output_type": "execute_result"
    }
   ],
   "source": [
    "len(corpus4.analysis.words)"
   ]
  },
  {
   "cell_type": "code",
   "execution_count": 88,
   "id": "22ade51a-1793-4e65-b8af-bbc0cf1e709b",
   "metadata": {},
   "outputs": [
    {
     "data": {
      "text/plain": [
       "4.761189226877385"
      ]
     },
     "execution_count": 88,
     "metadata": {},
     "output_type": "execute_result"
    }
   ],
   "source": [
    "# average word length\n",
    "average_word_len(corpus4.analysis.wordslen)"
   ]
  },
  {
   "cell_type": "code",
   "execution_count": 89,
   "id": "770d33b2-bdc4-4371-a233-74508d826ce8",
   "metadata": {},
   "outputs": [
    {
     "data": {
      "image/png": "[encoded data removed]",
      "text/plain": [
       "<Figure size 432x288 with 1 Axes>"
      ]
     },
     "metadata": {
      "needs_background": "light"
     },
     "output_type": "display_data"
    }
   ],
   "source": [
    "word_feq = corpus4.analysis.wordslen\n",
    "del word_feq[44]\n",
    "del word_feq[38]\n",
    "\n",
    "plt.title(\"Word Length Distribution (Adolescent)\")\n",
    "plt.xlabel('Word Length')\n",
    "plt.ylabel('Word Count')\n",
    "plt.bar(list(word_feq.keys()), word_feq.values(), color='g')\n",
    "plt.xticks(list(word_feq.keys()))\n",
    "plt.show()"
   ]
  },
  {
   "cell_type": "markdown",
   "id": "a1b3aacc-c869-4c97-a97a-85a3110a6c84",
   "metadata": {},
   "source": [
    "## Visutaion"
   ]
  },
  {
   "cell_type": "code",
   "execution_count": 90,
   "id": "ec5fd070-f296-4a0a-8689-16d5a1053ac5",
   "metadata": {},
   "outputs": [],
   "source": [
    "adult_wordnum = len(corpus1.analysis.words)\n",
    "child_wordnum = len(corpus2.analysis.words)\n",
    "inter_wordnum = len(corpus3.analysis.words)\n",
    "adol_wordnum = len(corpus4.analysis.words)"
   ]
  },
  {
   "cell_type": "code",
   "execution_count": 85,
   "id": "887d33b8-cd7e-4c2b-a21f-826a89b54655",
   "metadata": {},
   "outputs": [
    {
     "data": {
      "image/png": "[encoded data removed]",
      "text/plain": [
       "<Figure size 432x288 with 1 Axes>"
      ]
     },
     "metadata": {
      "needs_background": "light"
     },
     "output_type": "display_data"
    }
   ],
   "source": [
    "plt.bar([\"adult\", \"child\", \"intermediate\"],[adult_wordnum, child_wordnum, inter_wordnum], color='b')\n",
    "plt.title(\"Unique words per sample (100K sample size)\")\n",
    "plt.xlabel('Corpus Type')\n",
    "plt.ylabel('Word Count')\n",
    "plt.show()"
   ]
  },
  {
   "cell_type": "code",
   "execution_count": 91,
   "id": "0c8893cc-ce37-4b15-938a-3337173b4a78",
   "metadata": {},
   "outputs": [
    {
     "data": {
      "image/png": "[encoded data removed]",
      "text/plain": [
       "<Figure size 432x288 with 1 Axes>"
      ]
     },
     "metadata": {
      "needs_background": "light"
     },
     "output_type": "display_data"
    }
   ],
   "source": [
    "# using adol\n",
    "plt.bar([\"adult\", \"child\", \"adolescent\"],[adult_wordnum, child_wordnum, adol_wordnum], color='b')\n",
    "plt.title(\"Unique words per sample (100K sample size)\")\n",
    "plt.xlabel('Corpus Type')\n",
    "plt.ylabel('Word Count')\n",
    "plt.show()"
   ]
  },
  {
   "cell_type": "code",
   "execution_count": 93,
   "id": "cecfb5c0-9e0c-4570-b9c4-3c43e4b7417e",
   "metadata": {},
   "outputs": [],
   "source": [
    "adult_avglen = average_word_len(corpus1.analysis.wordslen)\n",
    "child_avglen = average_word_len(corpus2.analysis.wordslen)\n",
    "inter_avglen = average_word_len(corpus3.analysis.wordslen)\n",
    "adol_avglen = average_word_len(corpus4.analysis.wordslen)"
   ]
  },
  {
   "cell_type": "code",
   "execution_count": 88,
   "id": "1793ecd6-07b2-4488-8f55-aaa88ede5c96",
   "metadata": {},
   "outputs": [
    {
     "data": {
      "image/png": "[encoded data removed]",
      "text/plain": [
       "<Figure size 432x288 with 1 Axes>"
      ]
     },
     "metadata": {
      "needs_background": "light"
     },
     "output_type": "display_data"
    }
   ],
   "source": [
    "plt.bar([\"adult\", \"child\", \"intermediate\"],[adult_avglen, child_avglen, inter_avglen])\n",
    "plt.title(\"Average word length\")\n",
    "plt.xlabel('Corpus Type')\n",
    "plt.ylabel('Avg Word Length')\n",
    "plt.show()"
   ]
  },
  {
   "cell_type": "code",
   "execution_count": 94,
   "id": "c232f7f3-5553-4ed7-a410-3206b451e176",
   "metadata": {},
   "outputs": [
    {
     "data": {
      "image/png": "[encoded data removed]",
      "text/plain": [
       "<Figure size 432x288 with 1 Axes>"
      ]
     },
     "metadata": {
      "needs_background": "light"
     },
     "output_type": "display_data"
    }
   ],
   "source": [
    "# using adol\n",
    "plt.bar([\"adult\", \"child\", \"adolescent\"],[adult_avglen, child_avglen, adol_avglen])\n",
    "plt.title(\"Average word length\")\n",
    "plt.xlabel('Corpus Type')\n",
    "plt.ylabel('Avg Word Length')\n",
    "plt.show()"
   ]
  },
  {
   "cell_type": "code",
   "execution_count": null,
   "id": "7db77ff4-b3f0-46ee-915a-963996401a6c",
   "metadata": {},
   "outputs": [],
   "source": []
  }
 ],
 "metadata": {
  "kernelspec": {
   "display_name": "Python 3 (ipykernel)",
   "language": "python",
   "name": "python3"
  },
  "language_info": {
   "codemirror_mode": {
    "name": "ipython",
    "version": 3
   },
   "file_extension": ".py",
   "mimetype": "text/x-python",
   "name": "python",
   "nbconvert_exporter": "python",
   "pygments_lexer": "ipython3",
   "version": "3.7.11"
  }
 },
 "nbformat": 4,
 "nbformat_minor": 5
}
